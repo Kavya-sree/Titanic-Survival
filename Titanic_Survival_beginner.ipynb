{
  "nbformat": 4,
  "nbformat_minor": 0,
  "metadata": {
    "colab": {
      "name": "Titanic Survival beginner.ipynb",
      "provenance": [],
      "collapsed_sections": [
        "LmDP-cl1EMdI",
        "6NwO9eYGJa1O",
        "8E3aC0IDR3fT",
        "t1jAUink1yzD"
      ],
      "authorship_tag": "ABX9TyOrdkU0MDDwFkQD55eCuXtM",
      "include_colab_link": true
    },
    "kernelspec": {
      "name": "python3",
      "display_name": "Python 3"
    },
    "language_info": {
      "name": "python"
    }
  },
  "cells": [
    {
      "cell_type": "markdown",
      "metadata": {
        "id": "view-in-github",
        "colab_type": "text"
      },
      "source": [
        "<a href=\"https://colab.research.google.com/github/Kavya-sree/Git-tutorial/blob/main/Titanic_Survival_beginner.ipynb\" target=\"_parent\"><img src=\"https://colab.research.google.com/assets/colab-badge.svg\" alt=\"Open In Colab\"/></a>"
      ]
    },
    {
      "cell_type": "markdown",
      "metadata": {
        "id": "zKHZwcpl383C"
      },
      "source": [
        "The sinking of the RMS Titanic is one of the most infamous shipwrecks in history. It sank in the north Atlantic ocean on April 15, 1912 during her maiden voyage after colliding with an iceberg and killing 1502 out of 2224 passengers and crew.\n",
        "\n",
        "**Objective**\n",
        "\n",
        "The goal is to create a Model to predict which passengers survived the shipwreck.  "
      ]
    },
    {
      "cell_type": "markdown",
      "metadata": {
        "id": "tWcKgMbB-w2-"
      },
      "source": [
        "# 1. Importing Libraries"
      ]
    },
    {
      "cell_type": "code",
      "metadata": {
        "id": "ynD8K9MXBe3S"
      },
      "source": [
        "%matplotlib inline\n",
        "\n",
        "# Data Processing and Visualization Libraries\n",
        "import pandas as pd\n",
        "import numpy as np\n",
        "import matplotlib.pyplot as plt\n",
        "import seaborn as sns\n",
        "import missingno\n",
        "\n",
        "# Start Python Imports\n",
        "import math, time, random, datetime\n",
        "\n",
        "# Machine learning\n",
        "from sklearn.model_selection import train_test_split\n",
        "from sklearn import model_selection, tree, preprocessing, metrics, linear_model\n",
        "from sklearn.svm import SVC\n",
        "\n",
        "from sklearn.ensemble import GradientBoostingClassifier\n",
        "from sklearn.ensemble import RandomForestClassifier\n",
        "from sklearn.neighbors import KNeighborsClassifier\n",
        "from sklearn.naive_bayes import GaussianNB\n",
        "from sklearn.linear_model import LinearRegression, LogisticRegression, SGDClassifier\n",
        "from sklearn.tree import DecisionTreeClassifier\n",
        "\n",
        "sns.set(style = 'white' , context = 'notebook', palette = 'deep')\n",
        "\n",
        "#For ignoring warning\n",
        "import warnings\n",
        "warnings.filterwarnings('ignore', category = DeprecationWarning)"
      ],
      "execution_count": 154,
      "outputs": []
    },
    {
      "cell_type": "markdown",
      "metadata": {
        "id": "LdE-MCiFBmc3"
      },
      "source": [
        "# 2. Load Datasets"
      ]
    },
    {
      "cell_type": "code",
      "metadata": {
        "colab": {
          "resources": {
            "http://localhost:8080/nbextensions/google.colab/files.js": {
              "data": "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",
              "ok": true,
              "headers": [
                [
                  "content-type",
                  "application/javascript"
                ]
              ],
              "status": 200,
              "status_text": ""
            }
          },
          "base_uri": "https://localhost:8080/",
          "height": 106
        },
        "id": "kLN2jgbkBnGE",
        "outputId": "cb47f04c-b906-42da-d2d5-9cec9ba6b713"
      },
      "source": [
        "from google.colab import files\n",
        "files=files.upload()"
      ],
      "execution_count": 155,
      "outputs": [
        {
          "output_type": "display_data",
          "data": {
            "text/html": [
              "\n",
              "     <input type=\"file\" id=\"files-93c992bf-7f16-429a-b75a-b8731ead8307\" name=\"files[]\" multiple disabled\n",
              "        style=\"border:none\" />\n",
              "     <output id=\"result-93c992bf-7f16-429a-b75a-b8731ead8307\">\n",
              "      Upload widget is only available when the cell has been executed in the\n",
              "      current browser session. Please rerun this cell to enable.\n",
              "      </output>\n",
              "      <script src=\"/nbextensions/google.colab/files.js\"></script> "
            ],
            "text/plain": [
              "<IPython.core.display.HTML object>"
            ]
          },
          "metadata": {
            "tags": []
          }
        },
        {
          "output_type": "stream",
          "text": [
            "Saving test.csv to test (2).csv\n",
            "Saving train.csv to train (2).csv\n"
          ],
          "name": "stdout"
        }
      ]
    },
    {
      "cell_type": "code",
      "metadata": {
        "id": "3o3e-m2wBxi2"
      },
      "source": [
        "# load the datasets using pandas's read_csv method\n",
        "train = pd.read_csv('train.csv')\n",
        "test = pd.read_csv('test.csv')\n",
        "\n",
        "PassengerId = test['PassengerId']\n",
        "\n",
        "# combine train and teat datasets to run certain operations on both datasets together.\n",
        "combine =  pd.concat(objs=[train, test], axis=0).reset_index(drop=True)"
      ],
      "execution_count": 156,
      "outputs": []
    },
    {
      "cell_type": "markdown",
      "metadata": {
        "id": "LmDP-cl1EMdI"
      },
      "source": [
        "# 3. Data Overiew"
      ]
    },
    {
      "cell_type": "markdown",
      "metadata": {
        "id": "fKnyvF6zEUZT"
      },
      "source": [
        "**3.1 Data preview**"
      ]
    },
    {
      "cell_type": "code",
      "metadata": {
        "colab": {
          "base_uri": "https://localhost:8080/",
          "height": 204
        },
        "id": "8ZsG8ZY9EZEq",
        "outputId": "559ce95d-b914-4565-9e3f-cc6b13fc6693"
      },
      "source": [
        "# View the training data\n",
        "train.head()"
      ],
      "execution_count": 157,
      "outputs": [
        {
          "output_type": "execute_result",
          "data": {
            "text/html": [
              "<div>\n",
              "<style scoped>\n",
              "    .dataframe tbody tr th:only-of-type {\n",
              "        vertical-align: middle;\n",
              "    }\n",
              "\n",
              "    .dataframe tbody tr th {\n",
              "        vertical-align: top;\n",
              "    }\n",
              "\n",
              "    .dataframe thead th {\n",
              "        text-align: right;\n",
              "    }\n",
              "</style>\n",
              "<table border=\"1\" class=\"dataframe\">\n",
              "  <thead>\n",
              "    <tr style=\"text-align: right;\">\n",
              "      <th></th>\n",
              "      <th>PassengerId</th>\n",
              "      <th>Survived</th>\n",
              "      <th>Pclass</th>\n",
              "      <th>Name</th>\n",
              "      <th>Sex</th>\n",
              "      <th>Age</th>\n",
              "      <th>SibSp</th>\n",
              "      <th>Parch</th>\n",
              "      <th>Ticket</th>\n",
              "      <th>Fare</th>\n",
              "      <th>Cabin</th>\n",
              "      <th>Embarked</th>\n",
              "    </tr>\n",
              "  </thead>\n",
              "  <tbody>\n",
              "    <tr>\n",
              "      <th>0</th>\n",
              "      <td>1</td>\n",
              "      <td>0</td>\n",
              "      <td>3</td>\n",
              "      <td>Braund, Mr. Owen Harris</td>\n",
              "      <td>male</td>\n",
              "      <td>22.0</td>\n",
              "      <td>1</td>\n",
              "      <td>0</td>\n",
              "      <td>A/5 21171</td>\n",
              "      <td>7.2500</td>\n",
              "      <td>NaN</td>\n",
              "      <td>S</td>\n",
              "    </tr>\n",
              "    <tr>\n",
              "      <th>1</th>\n",
              "      <td>2</td>\n",
              "      <td>1</td>\n",
              "      <td>1</td>\n",
              "      <td>Cumings, Mrs. John Bradley (Florence Briggs Th...</td>\n",
              "      <td>female</td>\n",
              "      <td>38.0</td>\n",
              "      <td>1</td>\n",
              "      <td>0</td>\n",
              "      <td>PC 17599</td>\n",
              "      <td>71.2833</td>\n",
              "      <td>C85</td>\n",
              "      <td>C</td>\n",
              "    </tr>\n",
              "    <tr>\n",
              "      <th>2</th>\n",
              "      <td>3</td>\n",
              "      <td>1</td>\n",
              "      <td>3</td>\n",
              "      <td>Heikkinen, Miss. Laina</td>\n",
              "      <td>female</td>\n",
              "      <td>26.0</td>\n",
              "      <td>0</td>\n",
              "      <td>0</td>\n",
              "      <td>STON/O2. 3101282</td>\n",
              "      <td>7.9250</td>\n",
              "      <td>NaN</td>\n",
              "      <td>S</td>\n",
              "    </tr>\n",
              "    <tr>\n",
              "      <th>3</th>\n",
              "      <td>4</td>\n",
              "      <td>1</td>\n",
              "      <td>1</td>\n",
              "      <td>Futrelle, Mrs. Jacques Heath (Lily May Peel)</td>\n",
              "      <td>female</td>\n",
              "      <td>35.0</td>\n",
              "      <td>1</td>\n",
              "      <td>0</td>\n",
              "      <td>113803</td>\n",
              "      <td>53.1000</td>\n",
              "      <td>C123</td>\n",
              "      <td>S</td>\n",
              "    </tr>\n",
              "    <tr>\n",
              "      <th>4</th>\n",
              "      <td>5</td>\n",
              "      <td>0</td>\n",
              "      <td>3</td>\n",
              "      <td>Allen, Mr. William Henry</td>\n",
              "      <td>male</td>\n",
              "      <td>35.0</td>\n",
              "      <td>0</td>\n",
              "      <td>0</td>\n",
              "      <td>373450</td>\n",
              "      <td>8.0500</td>\n",
              "      <td>NaN</td>\n",
              "      <td>S</td>\n",
              "    </tr>\n",
              "  </tbody>\n",
              "</table>\n",
              "</div>"
            ],
            "text/plain": [
              "   PassengerId  Survived  Pclass  ...     Fare Cabin  Embarked\n",
              "0            1         0       3  ...   7.2500   NaN         S\n",
              "1            2         1       1  ...  71.2833   C85         C\n",
              "2            3         1       3  ...   7.9250   NaN         S\n",
              "3            4         1       1  ...  53.1000  C123         S\n",
              "4            5         0       3  ...   8.0500   NaN         S\n",
              "\n",
              "[5 rows x 12 columns]"
            ]
          },
          "metadata": {
            "tags": []
          },
          "execution_count": 157
        }
      ]
    },
    {
      "cell_type": "code",
      "metadata": {
        "colab": {
          "base_uri": "https://localhost:8080/",
          "height": 204
        },
        "id": "RvFCjupzDazz",
        "outputId": "09ca1ec7-e3ee-4c30-e72e-93b227e18e5e"
      },
      "source": [
        "test.head()"
      ],
      "execution_count": 158,
      "outputs": [
        {
          "output_type": "execute_result",
          "data": {
            "text/html": [
              "<div>\n",
              "<style scoped>\n",
              "    .dataframe tbody tr th:only-of-type {\n",
              "        vertical-align: middle;\n",
              "    }\n",
              "\n",
              "    .dataframe tbody tr th {\n",
              "        vertical-align: top;\n",
              "    }\n",
              "\n",
              "    .dataframe thead th {\n",
              "        text-align: right;\n",
              "    }\n",
              "</style>\n",
              "<table border=\"1\" class=\"dataframe\">\n",
              "  <thead>\n",
              "    <tr style=\"text-align: right;\">\n",
              "      <th></th>\n",
              "      <th>PassengerId</th>\n",
              "      <th>Pclass</th>\n",
              "      <th>Name</th>\n",
              "      <th>Sex</th>\n",
              "      <th>Age</th>\n",
              "      <th>SibSp</th>\n",
              "      <th>Parch</th>\n",
              "      <th>Ticket</th>\n",
              "      <th>Fare</th>\n",
              "      <th>Cabin</th>\n",
              "      <th>Embarked</th>\n",
              "    </tr>\n",
              "  </thead>\n",
              "  <tbody>\n",
              "    <tr>\n",
              "      <th>0</th>\n",
              "      <td>892</td>\n",
              "      <td>3</td>\n",
              "      <td>Kelly, Mr. James</td>\n",
              "      <td>male</td>\n",
              "      <td>34.5</td>\n",
              "      <td>0</td>\n",
              "      <td>0</td>\n",
              "      <td>330911</td>\n",
              "      <td>7.8292</td>\n",
              "      <td>NaN</td>\n",
              "      <td>Q</td>\n",
              "    </tr>\n",
              "    <tr>\n",
              "      <th>1</th>\n",
              "      <td>893</td>\n",
              "      <td>3</td>\n",
              "      <td>Wilkes, Mrs. James (Ellen Needs)</td>\n",
              "      <td>female</td>\n",
              "      <td>47.0</td>\n",
              "      <td>1</td>\n",
              "      <td>0</td>\n",
              "      <td>363272</td>\n",
              "      <td>7.0000</td>\n",
              "      <td>NaN</td>\n",
              "      <td>S</td>\n",
              "    </tr>\n",
              "    <tr>\n",
              "      <th>2</th>\n",
              "      <td>894</td>\n",
              "      <td>2</td>\n",
              "      <td>Myles, Mr. Thomas Francis</td>\n",
              "      <td>male</td>\n",
              "      <td>62.0</td>\n",
              "      <td>0</td>\n",
              "      <td>0</td>\n",
              "      <td>240276</td>\n",
              "      <td>9.6875</td>\n",
              "      <td>NaN</td>\n",
              "      <td>Q</td>\n",
              "    </tr>\n",
              "    <tr>\n",
              "      <th>3</th>\n",
              "      <td>895</td>\n",
              "      <td>3</td>\n",
              "      <td>Wirz, Mr. Albert</td>\n",
              "      <td>male</td>\n",
              "      <td>27.0</td>\n",
              "      <td>0</td>\n",
              "      <td>0</td>\n",
              "      <td>315154</td>\n",
              "      <td>8.6625</td>\n",
              "      <td>NaN</td>\n",
              "      <td>S</td>\n",
              "    </tr>\n",
              "    <tr>\n",
              "      <th>4</th>\n",
              "      <td>896</td>\n",
              "      <td>3</td>\n",
              "      <td>Hirvonen, Mrs. Alexander (Helga E Lindqvist)</td>\n",
              "      <td>female</td>\n",
              "      <td>22.0</td>\n",
              "      <td>1</td>\n",
              "      <td>1</td>\n",
              "      <td>3101298</td>\n",
              "      <td>12.2875</td>\n",
              "      <td>NaN</td>\n",
              "      <td>S</td>\n",
              "    </tr>\n",
              "  </tbody>\n",
              "</table>\n",
              "</div>"
            ],
            "text/plain": [
              "   PassengerId  Pclass  ... Cabin Embarked\n",
              "0          892       3  ...   NaN        Q\n",
              "1          893       3  ...   NaN        S\n",
              "2          894       2  ...   NaN        Q\n",
              "3          895       3  ...   NaN        S\n",
              "4          896       3  ...   NaN        S\n",
              "\n",
              "[5 rows x 11 columns]"
            ]
          },
          "metadata": {
            "tags": []
          },
          "execution_count": 158
        }
      ]
    },
    {
      "cell_type": "code",
      "metadata": {
        "colab": {
          "base_uri": "https://localhost:8080/"
        },
        "id": "PKf1CC3nFFfI",
        "outputId": "d08053e7-2814-459f-df4c-1f4b2b64cb0f"
      },
      "source": [
        "print(\"train dataset:\")\n",
        "print(train.shape)   #shows datapoints and features in train dataset                   \n",
        "print(train.columns) #displays column names in our train dataset\n",
        "print(\"test dataset:\")\n",
        "print(test.shape)   #shows datapoints and features in test dataset                    \n",
        "print(test.columns) #displays column names in our test dataset"
      ],
      "execution_count": 159,
      "outputs": [
        {
          "output_type": "stream",
          "text": [
            "train dataset:\n",
            "(891, 12)\n",
            "Index(['PassengerId', 'Survived', 'Pclass', 'Name', 'Sex', 'Age', 'SibSp',\n",
            "       'Parch', 'Ticket', 'Fare', 'Cabin', 'Embarked'],\n",
            "      dtype='object')\n",
            "test dataset:\n",
            "(418, 11)\n",
            "Index(['PassengerId', 'Pclass', 'Name', 'Sex', 'Age', 'SibSp', 'Parch',\n",
            "       'Ticket', 'Fare', 'Cabin', 'Embarked'],\n",
            "      dtype='object')\n"
          ],
          "name": "stdout"
        }
      ]
    },
    {
      "cell_type": "code",
      "metadata": {
        "colab": {
          "base_uri": "https://localhost:8080/"
        },
        "id": "HZTXEZ1mFRuF",
        "outputId": "8088c5d6-eecf-4969-8b7e-22813dcb7ae6"
      },
      "source": [
        "# Different data types in the dataset\n",
        "train.dtypes"
      ],
      "execution_count": 160,
      "outputs": [
        {
          "output_type": "execute_result",
          "data": {
            "text/plain": [
              "PassengerId      int64\n",
              "Survived         int64\n",
              "Pclass           int64\n",
              "Name            object\n",
              "Sex             object\n",
              "Age            float64\n",
              "SibSp            int64\n",
              "Parch            int64\n",
              "Ticket          object\n",
              "Fare           float64\n",
              "Cabin           object\n",
              "Embarked        object\n",
              "dtype: object"
            ]
          },
          "metadata": {
            "tags": []
          },
          "execution_count": 160
        }
      ]
    },
    {
      "cell_type": "code",
      "metadata": {
        "colab": {
          "base_uri": "https://localhost:8080/"
        },
        "id": "RgwLUu-zM2u8",
        "outputId": "de80e0c9-57c9-4d46-93e5-728436c31155"
      },
      "source": [
        "combine.shape"
      ],
      "execution_count": 161,
      "outputs": [
        {
          "output_type": "execute_result",
          "data": {
            "text/plain": [
              "(1309, 12)"
            ]
          },
          "metadata": {
            "tags": []
          },
          "execution_count": 161
        }
      ]
    },
    {
      "cell_type": "markdown",
      "metadata": {
        "id": "wP5QpD22Fg1x"
      },
      "source": [
        "**3.2 Data Descriptions**\n",
        "\n",
        "Survival (dependent variable): 0 = No, 1 = Yes\n",
        "\n",
        "pclass (Ticket class): 1 = upper class, 2 = middle class, and 3 = lower class\n",
        "\n",
        "sex: Sex\n",
        "\n",
        "Age: Age in years\n",
        "\n",
        "sibsp: number of siblings/spouses aboard the Titanic\n",
        "\n",
        "parch: number of parents/children aboard the Titanic\n",
        "\n",
        "ticket: Ticket number\n",
        "\n",
        "fare: Passenger fare\n",
        "\n",
        "cabin: Cabin number\n",
        "\n",
        "embarked: Port of Embarkation, C = Cherbourg, Q = Queenstown, S = Southampton"
      ]
    },
    {
      "cell_type": "markdown",
      "metadata": {
        "id": "pWJ7uokAFzVZ"
      },
      "source": [
        "**Categorical features:**\n",
        "\n",
        "Categorical: Survived, Sex, and Embarked.\n",
        "\n",
        "Ordinal: Pclass, cabin\n",
        "\n",
        "\n",
        "**Numerical features:** \n",
        "\n",
        "Continous: Age, Fare \n",
        "\n",
        "Discrete: SibSp, Parch\n",
        "\n",
        "\n"
      ]
    },
    {
      "cell_type": "code",
      "metadata": {
        "colab": {
          "base_uri": "https://localhost:8080/",
          "height": 390
        },
        "id": "JwHumGPNGES-",
        "outputId": "106b2e56-d598-4c58-a210-d99705f01481"
      },
      "source": [
        "train.describe(include = 'all')"
      ],
      "execution_count": 162,
      "outputs": [
        {
          "output_type": "execute_result",
          "data": {
            "text/html": [
              "<div>\n",
              "<style scoped>\n",
              "    .dataframe tbody tr th:only-of-type {\n",
              "        vertical-align: middle;\n",
              "    }\n",
              "\n",
              "    .dataframe tbody tr th {\n",
              "        vertical-align: top;\n",
              "    }\n",
              "\n",
              "    .dataframe thead th {\n",
              "        text-align: right;\n",
              "    }\n",
              "</style>\n",
              "<table border=\"1\" class=\"dataframe\">\n",
              "  <thead>\n",
              "    <tr style=\"text-align: right;\">\n",
              "      <th></th>\n",
              "      <th>PassengerId</th>\n",
              "      <th>Survived</th>\n",
              "      <th>Pclass</th>\n",
              "      <th>Name</th>\n",
              "      <th>Sex</th>\n",
              "      <th>Age</th>\n",
              "      <th>SibSp</th>\n",
              "      <th>Parch</th>\n",
              "      <th>Ticket</th>\n",
              "      <th>Fare</th>\n",
              "      <th>Cabin</th>\n",
              "      <th>Embarked</th>\n",
              "    </tr>\n",
              "  </thead>\n",
              "  <tbody>\n",
              "    <tr>\n",
              "      <th>count</th>\n",
              "      <td>891.000000</td>\n",
              "      <td>891.000000</td>\n",
              "      <td>891.000000</td>\n",
              "      <td>891</td>\n",
              "      <td>891</td>\n",
              "      <td>714.000000</td>\n",
              "      <td>891.000000</td>\n",
              "      <td>891.000000</td>\n",
              "      <td>891</td>\n",
              "      <td>891.000000</td>\n",
              "      <td>204</td>\n",
              "      <td>889</td>\n",
              "    </tr>\n",
              "    <tr>\n",
              "      <th>unique</th>\n",
              "      <td>NaN</td>\n",
              "      <td>NaN</td>\n",
              "      <td>NaN</td>\n",
              "      <td>891</td>\n",
              "      <td>2</td>\n",
              "      <td>NaN</td>\n",
              "      <td>NaN</td>\n",
              "      <td>NaN</td>\n",
              "      <td>681</td>\n",
              "      <td>NaN</td>\n",
              "      <td>147</td>\n",
              "      <td>3</td>\n",
              "    </tr>\n",
              "    <tr>\n",
              "      <th>top</th>\n",
              "      <td>NaN</td>\n",
              "      <td>NaN</td>\n",
              "      <td>NaN</td>\n",
              "      <td>Danbom, Mr. Ernst Gilbert</td>\n",
              "      <td>male</td>\n",
              "      <td>NaN</td>\n",
              "      <td>NaN</td>\n",
              "      <td>NaN</td>\n",
              "      <td>CA. 2343</td>\n",
              "      <td>NaN</td>\n",
              "      <td>B96 B98</td>\n",
              "      <td>S</td>\n",
              "    </tr>\n",
              "    <tr>\n",
              "      <th>freq</th>\n",
              "      <td>NaN</td>\n",
              "      <td>NaN</td>\n",
              "      <td>NaN</td>\n",
              "      <td>1</td>\n",
              "      <td>577</td>\n",
              "      <td>NaN</td>\n",
              "      <td>NaN</td>\n",
              "      <td>NaN</td>\n",
              "      <td>7</td>\n",
              "      <td>NaN</td>\n",
              "      <td>4</td>\n",
              "      <td>644</td>\n",
              "    </tr>\n",
              "    <tr>\n",
              "      <th>mean</th>\n",
              "      <td>446.000000</td>\n",
              "      <td>0.383838</td>\n",
              "      <td>2.308642</td>\n",
              "      <td>NaN</td>\n",
              "      <td>NaN</td>\n",
              "      <td>29.699118</td>\n",
              "      <td>0.523008</td>\n",
              "      <td>0.381594</td>\n",
              "      <td>NaN</td>\n",
              "      <td>32.204208</td>\n",
              "      <td>NaN</td>\n",
              "      <td>NaN</td>\n",
              "    </tr>\n",
              "    <tr>\n",
              "      <th>std</th>\n",
              "      <td>257.353842</td>\n",
              "      <td>0.486592</td>\n",
              "      <td>0.836071</td>\n",
              "      <td>NaN</td>\n",
              "      <td>NaN</td>\n",
              "      <td>14.526497</td>\n",
              "      <td>1.102743</td>\n",
              "      <td>0.806057</td>\n",
              "      <td>NaN</td>\n",
              "      <td>49.693429</td>\n",
              "      <td>NaN</td>\n",
              "      <td>NaN</td>\n",
              "    </tr>\n",
              "    <tr>\n",
              "      <th>min</th>\n",
              "      <td>1.000000</td>\n",
              "      <td>0.000000</td>\n",
              "      <td>1.000000</td>\n",
              "      <td>NaN</td>\n",
              "      <td>NaN</td>\n",
              "      <td>0.420000</td>\n",
              "      <td>0.000000</td>\n",
              "      <td>0.000000</td>\n",
              "      <td>NaN</td>\n",
              "      <td>0.000000</td>\n",
              "      <td>NaN</td>\n",
              "      <td>NaN</td>\n",
              "    </tr>\n",
              "    <tr>\n",
              "      <th>25%</th>\n",
              "      <td>223.500000</td>\n",
              "      <td>0.000000</td>\n",
              "      <td>2.000000</td>\n",
              "      <td>NaN</td>\n",
              "      <td>NaN</td>\n",
              "      <td>20.125000</td>\n",
              "      <td>0.000000</td>\n",
              "      <td>0.000000</td>\n",
              "      <td>NaN</td>\n",
              "      <td>7.910400</td>\n",
              "      <td>NaN</td>\n",
              "      <td>NaN</td>\n",
              "    </tr>\n",
              "    <tr>\n",
              "      <th>50%</th>\n",
              "      <td>446.000000</td>\n",
              "      <td>0.000000</td>\n",
              "      <td>3.000000</td>\n",
              "      <td>NaN</td>\n",
              "      <td>NaN</td>\n",
              "      <td>28.000000</td>\n",
              "      <td>0.000000</td>\n",
              "      <td>0.000000</td>\n",
              "      <td>NaN</td>\n",
              "      <td>14.454200</td>\n",
              "      <td>NaN</td>\n",
              "      <td>NaN</td>\n",
              "    </tr>\n",
              "    <tr>\n",
              "      <th>75%</th>\n",
              "      <td>668.500000</td>\n",
              "      <td>1.000000</td>\n",
              "      <td>3.000000</td>\n",
              "      <td>NaN</td>\n",
              "      <td>NaN</td>\n",
              "      <td>38.000000</td>\n",
              "      <td>1.000000</td>\n",
              "      <td>0.000000</td>\n",
              "      <td>NaN</td>\n",
              "      <td>31.000000</td>\n",
              "      <td>NaN</td>\n",
              "      <td>NaN</td>\n",
              "    </tr>\n",
              "    <tr>\n",
              "      <th>max</th>\n",
              "      <td>891.000000</td>\n",
              "      <td>1.000000</td>\n",
              "      <td>3.000000</td>\n",
              "      <td>NaN</td>\n",
              "      <td>NaN</td>\n",
              "      <td>80.000000</td>\n",
              "      <td>8.000000</td>\n",
              "      <td>6.000000</td>\n",
              "      <td>NaN</td>\n",
              "      <td>512.329200</td>\n",
              "      <td>NaN</td>\n",
              "      <td>NaN</td>\n",
              "    </tr>\n",
              "  </tbody>\n",
              "</table>\n",
              "</div>"
            ],
            "text/plain": [
              "        PassengerId    Survived      Pclass  ...        Fare    Cabin  Embarked\n",
              "count    891.000000  891.000000  891.000000  ...  891.000000      204       889\n",
              "unique          NaN         NaN         NaN  ...         NaN      147         3\n",
              "top             NaN         NaN         NaN  ...         NaN  B96 B98         S\n",
              "freq            NaN         NaN         NaN  ...         NaN        4       644\n",
              "mean     446.000000    0.383838    2.308642  ...   32.204208      NaN       NaN\n",
              "std      257.353842    0.486592    0.836071  ...   49.693429      NaN       NaN\n",
              "min        1.000000    0.000000    1.000000  ...    0.000000      NaN       NaN\n",
              "25%      223.500000    0.000000    2.000000  ...    7.910400      NaN       NaN\n",
              "50%      446.000000    0.000000    3.000000  ...   14.454200      NaN       NaN\n",
              "75%      668.500000    1.000000    3.000000  ...   31.000000      NaN       NaN\n",
              "max      891.000000    1.000000    3.000000  ...  512.329200      NaN       NaN\n",
              "\n",
              "[11 rows x 12 columns]"
            ]
          },
          "metadata": {
            "tags": []
          },
          "execution_count": 162
        }
      ]
    },
    {
      "cell_type": "markdown",
      "metadata": {
        "id": "FoWMj1CvHNw2"
      },
      "source": [
        "**3.3 Missing values**\n",
        "\n",
        "Rows which are missing a value or have NaN."
      ]
    },
    {
      "cell_type": "code",
      "metadata": {
        "colab": {
          "base_uri": "https://localhost:8080/",
          "height": 498
        },
        "id": "ragfEOQUHRGj",
        "outputId": "752439dc-f0dc-484c-a3ca-665041d58ee6"
      },
      "source": [
        "# Plot graphic of missing values\n",
        "missingno.matrix(combine, figsize = (30,10))"
      ],
      "execution_count": 163,
      "outputs": [
        {
          "output_type": "execute_result",
          "data": {
            "text/plain": [
              "<matplotlib.axes._subplots.AxesSubplot at 0x7f67bc8bc3d0>"
            ]
          },
          "metadata": {
            "tags": []
          },
          "execution_count": 163
        },
        {
          "output_type": "display_data",
          "data": {
            "image/png": "[encoded data removed]",
            "text/plain": [
              "<Figure size 2160x720 with 2 Axes>"
            ]
          },
          "metadata": {
            "tags": []
          }
        }
      ]
    },
    {
      "cell_type": "code",
      "metadata": {
        "colab": {
          "base_uri": "https://localhost:8080/"
        },
        "id": "7wFOB8vMHePw",
        "outputId": "3b72199e-f7e8-4f16-aeaf-2d7380cf7c06"
      },
      "source": [
        "# Alternatively, you can see the number of missing values like this\n",
        "train.isnull().sum()"
      ],
      "execution_count": 164,
      "outputs": [
        {
          "output_type": "execute_result",
          "data": {
            "text/plain": [
              "PassengerId      0\n",
              "Survived         0\n",
              "Pclass           0\n",
              "Name             0\n",
              "Sex              0\n",
              "Age            177\n",
              "SibSp            0\n",
              "Parch            0\n",
              "Ticket           0\n",
              "Fare             0\n",
              "Cabin          687\n",
              "Embarked         2\n",
              "dtype: int64"
            ]
          },
          "metadata": {
            "tags": []
          },
          "execution_count": 164
        }
      ]
    },
    {
      "cell_type": "markdown",
      "metadata": {
        "id": "GW2pnaqqHiw1"
      },
      "source": [
        "There are 3 features that contain null values:\n",
        "\n",
        "Age: 177 missing values out of 891\n",
        "\n",
        "Cabin: 687 missing values out of 891. It constitute a significant amount of data. Imputation may likely cause bias.\n",
        "\n",
        "Embarked: Only 2 missing values. Any simple imputation is sufficient. "
      ]
    },
    {
      "cell_type": "code",
      "metadata": {
        "colab": {
          "base_uri": "https://localhost:8080/"
        },
        "id": "192ntKOYHm6C",
        "outputId": "f565d8e9-a06b-4a36-fb5e-317393ebc587"
      },
      "source": [
        "test.isnull().sum()"
      ],
      "execution_count": 165,
      "outputs": [
        {
          "output_type": "execute_result",
          "data": {
            "text/plain": [
              "PassengerId      0\n",
              "Pclass           0\n",
              "Name             0\n",
              "Sex              0\n",
              "Age             86\n",
              "SibSp            0\n",
              "Parch            0\n",
              "Ticket           0\n",
              "Fare             1\n",
              "Cabin          327\n",
              "Embarked         0\n",
              "dtype: int64"
            ]
          },
          "metadata": {
            "tags": []
          },
          "execution_count": 165
        }
      ]
    },
    {
      "cell_type": "markdown",
      "metadata": {
        "id": "6NwO9eYGJa1O"
      },
      "source": [
        "# 4. EDA- Exploratory Data Analysis"
      ]
    },
    {
      "cell_type": "markdown",
      "metadata": {
        "id": "-7XQiEguJ4bg"
      },
      "source": [
        "**4.1 Target Feature: Survived**\n",
        "\n",
        "Description: Whether the passenger survived or not.\n",
        "\n",
        "Key: 0 = did not survive, 1 = survived\n",
        "\n",
        "This is the variable we want our machine learning model to predict based off all the others."
      ]
    },
    {
      "cell_type": "code",
      "metadata": {
        "colab": {
          "base_uri": "https://localhost:8080/",
          "height": 0
        },
        "id": "Qq6eI9LbKHVM",
        "outputId": "08000d4c-3f21-416a-b881-3e352aa22f6b"
      },
      "source": [
        "sns.countplot(x='Survived', data=train);"
      ],
      "execution_count": 166,
      "outputs": [
        {
          "output_type": "display_data",
          "data": {
            "image/png": "[encoded data removed]",
            "text/plain": [
              "<Figure size 432x288 with 1 Axes>"
            ]
          },
          "metadata": {
            "tags": []
          }
        }
      ]
    },
    {
      "cell_type": "markdown",
      "metadata": {
        "id": "P-H5H4ihnRp4"
      },
      "source": [
        "More people died than survived."
      ]
    },
    {
      "cell_type": "markdown",
      "metadata": {
        "id": "oYGzYs_6Sf6U"
      },
      "source": [
        "**4.2 Numerical Features**\n",
        "\n",
        "The numerical features in our dataset are SibSp, Parch, Age, Fare.\n",
        "We use heatmap to find correlated features. Only numeric features are compared as correlation between strings is not possible.\n"
      ]
    },
    {
      "cell_type": "code",
      "metadata": {
        "colab": {
          "base_uri": "https://localhost:8080/",
          "height": 0
        },
        "id": "vMl207HxxHuL",
        "outputId": "ec867e80-938c-4b7b-88d3-ee238c493a5c"
      },
      "source": [
        "# Correlation matrix between numerical values (SibSp Parch Age and Fare values) and Survived \n",
        "sns.heatmap(train[[\"Survived\",\"SibSp\",\"Parch\",\"Age\",\"Fare\"]].corr(),annot=True, fmt = \".2f\", cmap = \"RdYlGn\")"
      ],
      "execution_count": 167,
      "outputs": [
        {
          "output_type": "execute_result",
          "data": {
            "text/plain": [
              "<matplotlib.axes._subplots.AxesSubplot at 0x7f67bc820210>"
            ]
          },
          "metadata": {
            "tags": []
          },
          "execution_count": 167
        },
        {
          "output_type": "display_data",
          "data": {
            "image/png": "[encoded data removed]",
            "text/plain": [
              "<Figure size 432x288 with 2 Axes>"
            ]
          },
          "metadata": {
            "tags": []
          }
        }
      ]
    },
    {
      "cell_type": "markdown",
      "metadata": {
        "id": "23ClbzP3M_P7"
      },
      "source": [
        "\n",
        "\n",
        "*   The feature \"Fare\" has  significant correlation with Survival\n",
        "*   There is a high correlation between SibSp and Parch\n",
        "\n",
        "We can explore all these features"
      ]
    },
    {
      "cell_type": "markdown",
      "metadata": {
        "id": "q8nNLl0_RaCZ"
      },
      "source": [
        "**4.2.1 Age**\n",
        "\n",
        "Age is a continuous feature"
      ]
    },
    {
      "cell_type": "code",
      "metadata": {
        "colab": {
          "base_uri": "https://localhost:8080/",
          "height": 0
        },
        "id": "0Qtjk-V6tabJ",
        "outputId": "276e5078-6877-493c-da9f-8239c7f80e25"
      },
      "source": [
        "# Age vs Survived\n",
        "sns.histplot(data=train, x='Age', hue='Survived',fill=True, legend=True, kde=True, palette=\"magma\");\n",
        "plt.show()"
      ],
      "execution_count": 168,
      "outputs": [
        {
          "output_type": "display_data",
          "data": {
            "image/png": "[encoded data removed]",
            "text/plain": [
              "<Figure size 432x288 with 1 Axes>"
            ]
          },
          "metadata": {
            "tags": []
          }
        }
      ]
    },
    {
      "cell_type": "markdown",
      "metadata": {
        "id": "FhgaL1t_pVvi"
      },
      "source": [
        "\n",
        "\n",
        "*   Babies(Age <=5) had high survival rate\n",
        "*   Most passengers are in 15-35 age range"
      ]
    },
    {
      "cell_type": "markdown",
      "metadata": {
        "id": "rG8FQYgtXwRs"
      },
      "source": [
        "**4.2.2 Fare**\n",
        "\n",
        "Fare is a continous feature. \n",
        "\n",
        "We can use pandas.qcut. (Quantile-based discretization function). Discretize variable into equal-sized buckets based on rank or based on sample quantiles. "
      ]
    },
    {
      "cell_type": "code",
      "metadata": {
        "colab": {
          "base_uri": "https://localhost:8080/",
          "height": 0
        },
        "id": "_SD_1a7sZJtQ",
        "outputId": "ecefb852-da2f-4dfd-f0b9-5440dae70746"
      },
      "source": [
        "train['Fare_Range'] = pd.qcut(train['Fare'],4)\n",
        "train.groupby(['Fare_Range'])['Survived'].mean().to_frame().style.background_gradient(cmap='summer_r')"
      ],
      "execution_count": 169,
      "outputs": [
        {
          "output_type": "execute_result",
          "data": {
            "text/html": [
              "<style  type=\"text/css\" >\n",
              "#T_840132f6_bb2b_11eb_8a51_0242ac1c0002row0_col0{\n",
              "            background-color:  #ffff66;\n",
              "            color:  #000000;\n",
              "        }#T_840132f6_bb2b_11eb_8a51_0242ac1c0002row1_col0{\n",
              "            background-color:  #b9dc66;\n",
              "            color:  #000000;\n",
              "        }#T_840132f6_bb2b_11eb_8a51_0242ac1c0002row2_col0{\n",
              "            background-color:  #54aa66;\n",
              "            color:  #000000;\n",
              "        }#T_840132f6_bb2b_11eb_8a51_0242ac1c0002row3_col0{\n",
              "            background-color:  #008066;\n",
              "            color:  #f1f1f1;\n",
              "        }</style><table id=\"T_840132f6_bb2b_11eb_8a51_0242ac1c0002\" ><thead>    <tr>        <th class=\"blank level0\" ></th>        <th class=\"col_heading level0 col0\" >Survived</th>    </tr>    <tr>        <th class=\"index_name level0\" >Fare_Range</th>        <th class=\"blank\" ></th>    </tr></thead><tbody>\n",
              "                <tr>\n",
              "                        <th id=\"T_840132f6_bb2b_11eb_8a51_0242ac1c0002level0_row0\" class=\"row_heading level0 row0\" >(-0.001, 7.91]</th>\n",
              "                        <td id=\"T_840132f6_bb2b_11eb_8a51_0242ac1c0002row0_col0\" class=\"data row0 col0\" >0.197309</td>\n",
              "            </tr>\n",
              "            <tr>\n",
              "                        <th id=\"T_840132f6_bb2b_11eb_8a51_0242ac1c0002level0_row1\" class=\"row_heading level0 row1\" >(7.91, 14.454]</th>\n",
              "                        <td id=\"T_840132f6_bb2b_11eb_8a51_0242ac1c0002row1_col0\" class=\"data row1 col0\" >0.303571</td>\n",
              "            </tr>\n",
              "            <tr>\n",
              "                        <th id=\"T_840132f6_bb2b_11eb_8a51_0242ac1c0002level0_row2\" class=\"row_heading level0 row2\" >(14.454, 31.0]</th>\n",
              "                        <td id=\"T_840132f6_bb2b_11eb_8a51_0242ac1c0002row2_col0\" class=\"data row2 col0\" >0.454955</td>\n",
              "            </tr>\n",
              "            <tr>\n",
              "                        <th id=\"T_840132f6_bb2b_11eb_8a51_0242ac1c0002level0_row3\" class=\"row_heading level0 row3\" >(31.0, 512.329]</th>\n",
              "                        <td id=\"T_840132f6_bb2b_11eb_8a51_0242ac1c0002row3_col0\" class=\"data row3 col0\" >0.581081</td>\n",
              "            </tr>\n",
              "    </tbody></table>"
            ],
            "text/plain": [
              "<pandas.io.formats.style.Styler at 0x7f67bc885210>"
            ]
          },
          "metadata": {
            "tags": []
          },
          "execution_count": 169
        }
      ]
    },
    {
      "cell_type": "markdown",
      "metadata": {
        "id": "HLWDg0D4Zcfm"
      },
      "source": [
        "We can clearly see that as Fare_Range increases, the Survival chance also increases."
      ]
    },
    {
      "cell_type": "markdown",
      "metadata": {
        "id": "jKHPrWb8Z5Jc"
      },
      "source": [
        "**4.2.3 SibSp**\n",
        "\n",
        "SibSp- number of siblings/spouse "
      ]
    },
    {
      "cell_type": "code",
      "metadata": {
        "colab": {
          "base_uri": "https://localhost:8080/",
          "height": 0
        },
        "id": "FZl33MZHaZKS",
        "outputId": "f5a613b0-0f93-4ef4-9311-ad49ccb85c51"
      },
      "source": [
        "pd.crosstab([train.SibSp],train.Survived).style.background_gradient(cmap='summer_r')\n"
      ],
      "execution_count": 170,
      "outputs": [
        {
          "output_type": "execute_result",
          "data": {
            "text/html": [
              "<style  type=\"text/css\" >\n",
              "#T_84065e70_bb2b_11eb_8a51_0242ac1c0002row0_col0,#T_84065e70_bb2b_11eb_8a51_0242ac1c0002row0_col1{\n",
              "            background-color:  #008066;\n",
              "            color:  #f1f1f1;\n",
              "        }#T_84065e70_bb2b_11eb_8a51_0242ac1c0002row1_col0{\n",
              "            background-color:  #c4e266;\n",
              "            color:  #000000;\n",
              "        }#T_84065e70_bb2b_11eb_8a51_0242ac1c0002row1_col1{\n",
              "            background-color:  #77bb66;\n",
              "            color:  #000000;\n",
              "        }#T_84065e70_bb2b_11eb_8a51_0242ac1c0002row2_col0,#T_84065e70_bb2b_11eb_8a51_0242ac1c0002row4_col0{\n",
              "            background-color:  #f9fc66;\n",
              "            color:  #000000;\n",
              "        }#T_84065e70_bb2b_11eb_8a51_0242ac1c0002row2_col1{\n",
              "            background-color:  #f0f866;\n",
              "            color:  #000000;\n",
              "        }#T_84065e70_bb2b_11eb_8a51_0242ac1c0002row3_col0,#T_84065e70_bb2b_11eb_8a51_0242ac1c0002row3_col1{\n",
              "            background-color:  #fbfd66;\n",
              "            color:  #000000;\n",
              "        }#T_84065e70_bb2b_11eb_8a51_0242ac1c0002row4_col1{\n",
              "            background-color:  #fcfe66;\n",
              "            color:  #000000;\n",
              "        }#T_84065e70_bb2b_11eb_8a51_0242ac1c0002row5_col0,#T_84065e70_bb2b_11eb_8a51_0242ac1c0002row5_col1,#T_84065e70_bb2b_11eb_8a51_0242ac1c0002row6_col1{\n",
              "            background-color:  #ffff66;\n",
              "            color:  #000000;\n",
              "        }#T_84065e70_bb2b_11eb_8a51_0242ac1c0002row6_col0{\n",
              "            background-color:  #fefe66;\n",
              "            color:  #000000;\n",
              "        }</style><table id=\"T_84065e70_bb2b_11eb_8a51_0242ac1c0002\" ><thead>    <tr>        <th class=\"index_name level0\" >Survived</th>        <th class=\"col_heading level0 col0\" >0</th>        <th class=\"col_heading level0 col1\" >1</th>    </tr>    <tr>        <th class=\"index_name level0\" >SibSp</th>        <th class=\"blank\" ></th>        <th class=\"blank\" ></th>    </tr></thead><tbody>\n",
              "                <tr>\n",
              "                        <th id=\"T_84065e70_bb2b_11eb_8a51_0242ac1c0002level0_row0\" class=\"row_heading level0 row0\" >0</th>\n",
              "                        <td id=\"T_84065e70_bb2b_11eb_8a51_0242ac1c0002row0_col0\" class=\"data row0 col0\" >398</td>\n",
              "                        <td id=\"T_84065e70_bb2b_11eb_8a51_0242ac1c0002row0_col1\" class=\"data row0 col1\" >210</td>\n",
              "            </tr>\n",
              "            <tr>\n",
              "                        <th id=\"T_84065e70_bb2b_11eb_8a51_0242ac1c0002level0_row1\" class=\"row_heading level0 row1\" >1</th>\n",
              "                        <td id=\"T_84065e70_bb2b_11eb_8a51_0242ac1c0002row1_col0\" class=\"data row1 col0\" >97</td>\n",
              "                        <td id=\"T_84065e70_bb2b_11eb_8a51_0242ac1c0002row1_col1\" class=\"data row1 col1\" >112</td>\n",
              "            </tr>\n",
              "            <tr>\n",
              "                        <th id=\"T_84065e70_bb2b_11eb_8a51_0242ac1c0002level0_row2\" class=\"row_heading level0 row2\" >2</th>\n",
              "                        <td id=\"T_84065e70_bb2b_11eb_8a51_0242ac1c0002row2_col0\" class=\"data row2 col0\" >15</td>\n",
              "                        <td id=\"T_84065e70_bb2b_11eb_8a51_0242ac1c0002row2_col1\" class=\"data row2 col1\" >13</td>\n",
              "            </tr>\n",
              "            <tr>\n",
              "                        <th id=\"T_84065e70_bb2b_11eb_8a51_0242ac1c0002level0_row3\" class=\"row_heading level0 row3\" >3</th>\n",
              "                        <td id=\"T_84065e70_bb2b_11eb_8a51_0242ac1c0002row3_col0\" class=\"data row3 col0\" >12</td>\n",
              "                        <td id=\"T_84065e70_bb2b_11eb_8a51_0242ac1c0002row3_col1\" class=\"data row3 col1\" >4</td>\n",
              "            </tr>\n",
              "            <tr>\n",
              "                        <th id=\"T_84065e70_bb2b_11eb_8a51_0242ac1c0002level0_row4\" class=\"row_heading level0 row4\" >4</th>\n",
              "                        <td id=\"T_84065e70_bb2b_11eb_8a51_0242ac1c0002row4_col0\" class=\"data row4 col0\" >15</td>\n",
              "                        <td id=\"T_84065e70_bb2b_11eb_8a51_0242ac1c0002row4_col1\" class=\"data row4 col1\" >3</td>\n",
              "            </tr>\n",
              "            <tr>\n",
              "                        <th id=\"T_84065e70_bb2b_11eb_8a51_0242ac1c0002level0_row5\" class=\"row_heading level0 row5\" >5</th>\n",
              "                        <td id=\"T_84065e70_bb2b_11eb_8a51_0242ac1c0002row5_col0\" class=\"data row5 col0\" >5</td>\n",
              "                        <td id=\"T_84065e70_bb2b_11eb_8a51_0242ac1c0002row5_col1\" class=\"data row5 col1\" >0</td>\n",
              "            </tr>\n",
              "            <tr>\n",
              "                        <th id=\"T_84065e70_bb2b_11eb_8a51_0242ac1c0002level0_row6\" class=\"row_heading level0 row6\" >8</th>\n",
              "                        <td id=\"T_84065e70_bb2b_11eb_8a51_0242ac1c0002row6_col0\" class=\"data row6 col0\" >7</td>\n",
              "                        <td id=\"T_84065e70_bb2b_11eb_8a51_0242ac1c0002row6_col1\" class=\"data row6 col1\" >0</td>\n",
              "            </tr>\n",
              "    </tbody></table>"
            ],
            "text/plain": [
              "<pandas.io.formats.style.Styler at 0x7f67bc66c450>"
            ]
          },
          "metadata": {
            "tags": []
          },
          "execution_count": 170
        }
      ]
    },
    {
      "cell_type": "code",
      "metadata": {
        "colab": {
          "base_uri": "https://localhost:8080/",
          "height": 0
        },
        "id": "xkbYnbMQcuP7",
        "outputId": "21f054dd-b7ed-4aff-a495-2698cfdc6a4e"
      },
      "source": [
        "sns.barplot(x=\"SibSp\",y=\"Survived\",data=train, palette = \"muted\")"
      ],
      "execution_count": 171,
      "outputs": [
        {
          "output_type": "execute_result",
          "data": {
            "text/plain": [
              "<matplotlib.axes._subplots.AxesSubplot at 0x7f67bc60b790>"
            ]
          },
          "metadata": {
            "tags": []
          },
          "execution_count": 171
        },
        {
          "output_type": "display_data",
          "data": {
            "image/png": "[encoded data removed]",
            "text/plain": [
              "<Figure size 432x288 with 1 Axes>"
            ]
          },
          "metadata": {
            "tags": []
          }
        }
      ]
    },
    {
      "cell_type": "markdown",
      "metadata": {
        "id": "-vUZztSAbXIi"
      },
      "source": [
        "We can see that People with small number of siblings/spouse had more survival rate.\n",
        "Passengers having more Siblings/Spouse has low chance of survival."
      ]
    },
    {
      "cell_type": "markdown",
      "metadata": {
        "id": "Zg-Xc3kaaM9H"
      },
      "source": [
        "**4.2.4 Parch**\n",
        "\n",
        "Parch- number of parents/children "
      ]
    },
    {
      "cell_type": "code",
      "metadata": {
        "colab": {
          "base_uri": "https://localhost:8080/",
          "height": 0
        },
        "id": "N0CPLCtlafQT",
        "outputId": "2126fda8-5578-485c-d78d-fea914de9d7b"
      },
      "source": [
        "pd.crosstab([train.Parch],train.Survived).style.background_gradient(cmap='summer_r')"
      ],
      "execution_count": 172,
      "outputs": [
        {
          "output_type": "execute_result",
          "data": {
            "text/html": [
              "<style  type=\"text/css\" >\n",
              "#T_844dca08_bb2b_11eb_8a51_0242ac1c0002row0_col0,#T_844dca08_bb2b_11eb_8a51_0242ac1c0002row0_col1{\n",
              "            background-color:  #008066;\n",
              "            color:  #f1f1f1;\n",
              "        }#T_844dca08_bb2b_11eb_8a51_0242ac1c0002row1_col0{\n",
              "            background-color:  #e2f066;\n",
              "            color:  #000000;\n",
              "        }#T_844dca08_bb2b_11eb_8a51_0242ac1c0002row1_col1{\n",
              "            background-color:  #b8dc66;\n",
              "            color:  #000000;\n",
              "        }#T_844dca08_bb2b_11eb_8a51_0242ac1c0002row2_col0{\n",
              "            background-color:  #e9f466;\n",
              "            color:  #000000;\n",
              "        }#T_844dca08_bb2b_11eb_8a51_0242ac1c0002row2_col1{\n",
              "            background-color:  #d4ea66;\n",
              "            color:  #000000;\n",
              "        }#T_844dca08_bb2b_11eb_8a51_0242ac1c0002row3_col0,#T_844dca08_bb2b_11eb_8a51_0242ac1c0002row4_col1,#T_844dca08_bb2b_11eb_8a51_0242ac1c0002row6_col0,#T_844dca08_bb2b_11eb_8a51_0242ac1c0002row6_col1{\n",
              "            background-color:  #ffff66;\n",
              "            color:  #000000;\n",
              "        }#T_844dca08_bb2b_11eb_8a51_0242ac1c0002row3_col1{\n",
              "            background-color:  #fcfe66;\n",
              "            color:  #000000;\n",
              "        }#T_844dca08_bb2b_11eb_8a51_0242ac1c0002row4_col0,#T_844dca08_bb2b_11eb_8a51_0242ac1c0002row5_col0,#T_844dca08_bb2b_11eb_8a51_0242ac1c0002row5_col1{\n",
              "            background-color:  #fefe66;\n",
              "            color:  #000000;\n",
              "        }</style><table id=\"T_844dca08_bb2b_11eb_8a51_0242ac1c0002\" ><thead>    <tr>        <th class=\"index_name level0\" >Survived</th>        <th class=\"col_heading level0 col0\" >0</th>        <th class=\"col_heading level0 col1\" >1</th>    </tr>    <tr>        <th class=\"index_name level0\" >Parch</th>        <th class=\"blank\" ></th>        <th class=\"blank\" ></th>    </tr></thead><tbody>\n",
              "                <tr>\n",
              "                        <th id=\"T_844dca08_bb2b_11eb_8a51_0242ac1c0002level0_row0\" class=\"row_heading level0 row0\" >0</th>\n",
              "                        <td id=\"T_844dca08_bb2b_11eb_8a51_0242ac1c0002row0_col0\" class=\"data row0 col0\" >445</td>\n",
              "                        <td id=\"T_844dca08_bb2b_11eb_8a51_0242ac1c0002row0_col1\" class=\"data row0 col1\" >233</td>\n",
              "            </tr>\n",
              "            <tr>\n",
              "                        <th id=\"T_844dca08_bb2b_11eb_8a51_0242ac1c0002level0_row1\" class=\"row_heading level0 row1\" >1</th>\n",
              "                        <td id=\"T_844dca08_bb2b_11eb_8a51_0242ac1c0002row1_col0\" class=\"data row1 col0\" >53</td>\n",
              "                        <td id=\"T_844dca08_bb2b_11eb_8a51_0242ac1c0002row1_col1\" class=\"data row1 col1\" >65</td>\n",
              "            </tr>\n",
              "            <tr>\n",
              "                        <th id=\"T_844dca08_bb2b_11eb_8a51_0242ac1c0002level0_row2\" class=\"row_heading level0 row2\" >2</th>\n",
              "                        <td id=\"T_844dca08_bb2b_11eb_8a51_0242ac1c0002row2_col0\" class=\"data row2 col0\" >40</td>\n",
              "                        <td id=\"T_844dca08_bb2b_11eb_8a51_0242ac1c0002row2_col1\" class=\"data row2 col1\" >40</td>\n",
              "            </tr>\n",
              "            <tr>\n",
              "                        <th id=\"T_844dca08_bb2b_11eb_8a51_0242ac1c0002level0_row3\" class=\"row_heading level0 row3\" >3</th>\n",
              "                        <td id=\"T_844dca08_bb2b_11eb_8a51_0242ac1c0002row3_col0\" class=\"data row3 col0\" >2</td>\n",
              "                        <td id=\"T_844dca08_bb2b_11eb_8a51_0242ac1c0002row3_col1\" class=\"data row3 col1\" >3</td>\n",
              "            </tr>\n",
              "            <tr>\n",
              "                        <th id=\"T_844dca08_bb2b_11eb_8a51_0242ac1c0002level0_row4\" class=\"row_heading level0 row4\" >4</th>\n",
              "                        <td id=\"T_844dca08_bb2b_11eb_8a51_0242ac1c0002row4_col0\" class=\"data row4 col0\" >4</td>\n",
              "                        <td id=\"T_844dca08_bb2b_11eb_8a51_0242ac1c0002row4_col1\" class=\"data row4 col1\" >0</td>\n",
              "            </tr>\n",
              "            <tr>\n",
              "                        <th id=\"T_844dca08_bb2b_11eb_8a51_0242ac1c0002level0_row5\" class=\"row_heading level0 row5\" >5</th>\n",
              "                        <td id=\"T_844dca08_bb2b_11eb_8a51_0242ac1c0002row5_col0\" class=\"data row5 col0\" >4</td>\n",
              "                        <td id=\"T_844dca08_bb2b_11eb_8a51_0242ac1c0002row5_col1\" class=\"data row5 col1\" >1</td>\n",
              "            </tr>\n",
              "            <tr>\n",
              "                        <th id=\"T_844dca08_bb2b_11eb_8a51_0242ac1c0002level0_row6\" class=\"row_heading level0 row6\" >6</th>\n",
              "                        <td id=\"T_844dca08_bb2b_11eb_8a51_0242ac1c0002row6_col0\" class=\"data row6 col0\" >1</td>\n",
              "                        <td id=\"T_844dca08_bb2b_11eb_8a51_0242ac1c0002row6_col1\" class=\"data row6 col1\" >0</td>\n",
              "            </tr>\n",
              "    </tbody></table>"
            ],
            "text/plain": [
              "<pandas.io.formats.style.Styler at 0x7f67bc79c350>"
            ]
          },
          "metadata": {
            "tags": []
          },
          "execution_count": 172
        }
      ]
    },
    {
      "cell_type": "code",
      "metadata": {
        "colab": {
          "base_uri": "https://localhost:8080/",
          "height": 0
        },
        "id": "7c_HYvRmdcPm",
        "outputId": "707d1b39-6b07-49c1-e07c-8c9d33b90373"
      },
      "source": [
        "sns.barplot(x=\"Parch\",y=\"Survived\",data=train, palette = \"muted\")"
      ],
      "execution_count": 173,
      "outputs": [
        {
          "output_type": "execute_result",
          "data": {
            "text/plain": [
              "<matplotlib.axes._subplots.AxesSubplot at 0x7f67bc6d5210>"
            ]
          },
          "metadata": {
            "tags": []
          },
          "execution_count": 173
        },
        {
          "output_type": "display_data",
          "data": {
            "image/png": "[encoded data removed]",
            "text/plain": [
              "<Figure size 432x288 with 1 Axes>"
            ]
          },
          "metadata": {
            "tags": []
          }
        }
      ]
    },
    {
      "cell_type": "markdown",
      "metadata": {
        "id": "X8IQkDxOazGj"
      },
      "source": [
        "We can see that People with small number of parents/children had more survival rate. "
      ]
    },
    {
      "cell_type": "markdown",
      "metadata": {
        "id": "Xs_kEOQMeMN5"
      },
      "source": [
        "**4.3 Categorical Features**\n",
        "\n",
        "We have Sex, Pclass and Embarked as categorical features"
      ]
    },
    {
      "cell_type": "markdown",
      "metadata": {
        "id": "s1cEUCBonhzw"
      },
      "source": [
        "**4.3.1 Pclass**"
      ]
    },
    {
      "cell_type": "code",
      "metadata": {
        "colab": {
          "base_uri": "https://localhost:8080/",
          "height": 0
        },
        "id": "EzqflKH_n3R8",
        "outputId": "48b8d20d-7ef3-4af8-a3c4-51afb23e60a5"
      },
      "source": [
        "pd.crosstab(train.Pclass,train.Survived,margins=True).style.background_gradient(cmap='summer_r')"
      ],
      "execution_count": 174,
      "outputs": [
        {
          "output_type": "execute_result",
          "data": {
            "text/html": [
              "<style  type=\"text/css\" >\n",
              "#T_848ad9fc_bb2b_11eb_8a51_0242ac1c0002row0_col0,#T_848ad9fc_bb2b_11eb_8a51_0242ac1c0002row1_col1,#T_848ad9fc_bb2b_11eb_8a51_0242ac1c0002row1_col2{\n",
              "            background-color:  #ffff66;\n",
              "            color:  #000000;\n",
              "        }#T_848ad9fc_bb2b_11eb_8a51_0242ac1c0002row0_col1{\n",
              "            background-color:  #cee666;\n",
              "            color:  #000000;\n",
              "        }#T_848ad9fc_bb2b_11eb_8a51_0242ac1c0002row0_col2{\n",
              "            background-color:  #f4fa66;\n",
              "            color:  #000000;\n",
              "        }#T_848ad9fc_bb2b_11eb_8a51_0242ac1c0002row1_col0{\n",
              "            background-color:  #f6fa66;\n",
              "            color:  #000000;\n",
              "        }#T_848ad9fc_bb2b_11eb_8a51_0242ac1c0002row2_col0{\n",
              "            background-color:  #60b066;\n",
              "            color:  #000000;\n",
              "        }#T_848ad9fc_bb2b_11eb_8a51_0242ac1c0002row2_col1{\n",
              "            background-color:  #dfef66;\n",
              "            color:  #000000;\n",
              "        }#T_848ad9fc_bb2b_11eb_8a51_0242ac1c0002row2_col2{\n",
              "            background-color:  #90c866;\n",
              "            color:  #000000;\n",
              "        }#T_848ad9fc_bb2b_11eb_8a51_0242ac1c0002row3_col0,#T_848ad9fc_bb2b_11eb_8a51_0242ac1c0002row3_col1,#T_848ad9fc_bb2b_11eb_8a51_0242ac1c0002row3_col2{\n",
              "            background-color:  #008066;\n",
              "            color:  #f1f1f1;\n",
              "        }</style><table id=\"T_848ad9fc_bb2b_11eb_8a51_0242ac1c0002\" ><thead>    <tr>        <th class=\"index_name level0\" >Survived</th>        <th class=\"col_heading level0 col0\" >0</th>        <th class=\"col_heading level0 col1\" >1</th>        <th class=\"col_heading level0 col2\" >All</th>    </tr>    <tr>        <th class=\"index_name level0\" >Pclass</th>        <th class=\"blank\" ></th>        <th class=\"blank\" ></th>        <th class=\"blank\" ></th>    </tr></thead><tbody>\n",
              "                <tr>\n",
              "                        <th id=\"T_848ad9fc_bb2b_11eb_8a51_0242ac1c0002level0_row0\" class=\"row_heading level0 row0\" >1</th>\n",
              "                        <td id=\"T_848ad9fc_bb2b_11eb_8a51_0242ac1c0002row0_col0\" class=\"data row0 col0\" >80</td>\n",
              "                        <td id=\"T_848ad9fc_bb2b_11eb_8a51_0242ac1c0002row0_col1\" class=\"data row0 col1\" >136</td>\n",
              "                        <td id=\"T_848ad9fc_bb2b_11eb_8a51_0242ac1c0002row0_col2\" class=\"data row0 col2\" >216</td>\n",
              "            </tr>\n",
              "            <tr>\n",
              "                        <th id=\"T_848ad9fc_bb2b_11eb_8a51_0242ac1c0002level0_row1\" class=\"row_heading level0 row1\" >2</th>\n",
              "                        <td id=\"T_848ad9fc_bb2b_11eb_8a51_0242ac1c0002row1_col0\" class=\"data row1 col0\" >97</td>\n",
              "                        <td id=\"T_848ad9fc_bb2b_11eb_8a51_0242ac1c0002row1_col1\" class=\"data row1 col1\" >87</td>\n",
              "                        <td id=\"T_848ad9fc_bb2b_11eb_8a51_0242ac1c0002row1_col2\" class=\"data row1 col2\" >184</td>\n",
              "            </tr>\n",
              "            <tr>\n",
              "                        <th id=\"T_848ad9fc_bb2b_11eb_8a51_0242ac1c0002level0_row2\" class=\"row_heading level0 row2\" >3</th>\n",
              "                        <td id=\"T_848ad9fc_bb2b_11eb_8a51_0242ac1c0002row2_col0\" class=\"data row2 col0\" >372</td>\n",
              "                        <td id=\"T_848ad9fc_bb2b_11eb_8a51_0242ac1c0002row2_col1\" class=\"data row2 col1\" >119</td>\n",
              "                        <td id=\"T_848ad9fc_bb2b_11eb_8a51_0242ac1c0002row2_col2\" class=\"data row2 col2\" >491</td>\n",
              "            </tr>\n",
              "            <tr>\n",
              "                        <th id=\"T_848ad9fc_bb2b_11eb_8a51_0242ac1c0002level0_row3\" class=\"row_heading level0 row3\" >All</th>\n",
              "                        <td id=\"T_848ad9fc_bb2b_11eb_8a51_0242ac1c0002row3_col0\" class=\"data row3 col0\" >549</td>\n",
              "                        <td id=\"T_848ad9fc_bb2b_11eb_8a51_0242ac1c0002row3_col1\" class=\"data row3 col1\" >342</td>\n",
              "                        <td id=\"T_848ad9fc_bb2b_11eb_8a51_0242ac1c0002row3_col2\" class=\"data row3 col2\" >891</td>\n",
              "            </tr>\n",
              "    </tbody></table>"
            ],
            "text/plain": [
              "<pandas.io.formats.style.Styler at 0x7f67bc53ed90>"
            ]
          },
          "metadata": {
            "tags": []
          },
          "execution_count": 174
        }
      ]
    },
    {
      "cell_type": "code",
      "metadata": {
        "colab": {
          "base_uri": "https://localhost:8080/",
          "height": 0
        },
        "id": "p9podFG-nq-s",
        "outputId": "50751e9b-ef2b-4929-b8a8-470f7d4f45cd"
      },
      "source": [
        "# Visualise survival of each passenger class\n",
        "sns.set_style('whitegrid')\n",
        "sns.barplot(x='Pclass' , y='Survived' , data=train)\n",
        "plt.show()"
      ],
      "execution_count": 175,
      "outputs": [
        {
          "output_type": "display_data",
          "data": {
            "image/png": "[encoded data removed]",
            "text/plain": [
              "<Figure size 432x288 with 1 Axes>"
            ]
          },
          "metadata": {
            "tags": []
          }
        }
      ]
    },
    {
      "cell_type": "markdown",
      "metadata": {
        "id": "VvTqFsXta4Lc"
      },
      "source": [
        "*Observation* : We can clearly see that Survival of first class passengers was prioritised, followed by second class, then third. Even though the the number of Passengers in Pclass 3 were a lot higher, the number of people survived is very low. May be Pclass 1 were prioritised during the evacuation due to their influence."
      ]
    },
    {
      "cell_type": "markdown",
      "metadata": {
        "id": "PJUcqF3GcEks"
      },
      "source": [
        "**4.3.2 Sex**"
      ]
    },
    {
      "cell_type": "code",
      "metadata": {
        "colab": {
          "base_uri": "https://localhost:8080/",
          "height": 0
        },
        "id": "JebLrXb2cHdA",
        "outputId": "07ac8946-ca21-4da3-c5bc-0e7491a74d6d"
      },
      "source": [
        "# Visualise survival of each Sex\n",
        "sns.set_style('whitegrid')\n",
        "sns.catplot(x='Sex', col='Survived', kind='count', data=train, height=4,);\n",
        "#sns.countplot(x='Sex' , hue='Survived' , data=train)\n",
        "plt.show()"
      ],
      "execution_count": 176,
      "outputs": [
        {
          "output_type": "display_data",
          "data": {
            "image/png": "[encoded data removed]",
            "text/plain": [
              "<Figure size 576x288 with 2 Axes>"
            ]
          },
          "metadata": {
            "tags": []
          }
        }
      ]
    },
    {
      "cell_type": "code",
      "metadata": {
        "colab": {
          "base_uri": "https://localhost:8080/",
          "height": 0
        },
        "id": "lL4eWWwMcSIc",
        "outputId": "f69385cd-e1b8-44ff-8cb2-d9176873519b"
      },
      "source": [
        "# Calculating the value counts for our attributes\n",
        "male_total = train[train['Sex']=='male'].shape[0]\n",
        "female_total = train[train['Sex']=='female'].shape[0]\n",
        "print('Total male in our dataset:', male_total)\n",
        "print('Total female in our dataset:', female_total)\n",
        "\n",
        "train[[\"Sex\",\"Survived\"]].groupby('Sex').mean()"
      ],
      "execution_count": 177,
      "outputs": [
        {
          "output_type": "stream",
          "text": [
            "Total male in our dataset: 577\n",
            "Total female in our dataset: 314\n"
          ],
          "name": "stdout"
        },
        {
          "output_type": "execute_result",
          "data": {
            "text/html": [
              "<div>\n",
              "<style scoped>\n",
              "    .dataframe tbody tr th:only-of-type {\n",
              "        vertical-align: middle;\n",
              "    }\n",
              "\n",
              "    .dataframe tbody tr th {\n",
              "        vertical-align: top;\n",
              "    }\n",
              "\n",
              "    .dataframe thead th {\n",
              "        text-align: right;\n",
              "    }\n",
              "</style>\n",
              "<table border=\"1\" class=\"dataframe\">\n",
              "  <thead>\n",
              "    <tr style=\"text-align: right;\">\n",
              "      <th></th>\n",
              "      <th>Survived</th>\n",
              "    </tr>\n",
              "    <tr>\n",
              "      <th>Sex</th>\n",
              "      <th></th>\n",
              "    </tr>\n",
              "  </thead>\n",
              "  <tbody>\n",
              "    <tr>\n",
              "      <th>female</th>\n",
              "      <td>0.742038</td>\n",
              "    </tr>\n",
              "    <tr>\n",
              "      <th>male</th>\n",
              "      <td>0.188908</td>\n",
              "    </tr>\n",
              "  </tbody>\n",
              "</table>\n",
              "</div>"
            ],
            "text/plain": [
              "        Survived\n",
              "Sex             \n",
              "female  0.742038\n",
              "male    0.188908"
            ]
          },
          "metadata": {
            "tags": []
          },
          "execution_count": 177
        }
      ]
    },
    {
      "cell_type": "markdown",
      "metadata": {
        "id": "ItuNql-gdaXv"
      },
      "source": [
        "*Observation*: The number of men is lot more than the number of women. Still the survival rates for a women on the ship is 74% while that for men in around 19%."
      ]
    },
    {
      "cell_type": "markdown",
      "metadata": {
        "id": "ZwXMmfAKwXHV"
      },
      "source": [
        "**Sex and Pclass vs Survival**\n",
        "\n",
        "Lets check survival with Sex and Pclass together using crosstab and catplot"
      ]
    },
    {
      "cell_type": "code",
      "metadata": {
        "colab": {
          "base_uri": "https://localhost:8080/",
          "height": 0
        },
        "id": "QOk-xZ_Zwl4V",
        "outputId": "15f4fe04-6cbe-4d0a-8fdd-f1ca68d772d0"
      },
      "source": [
        "pd.crosstab([train.Sex,train.Survived],train.Pclass,margins=True).style.background_gradient(cmap='summer_r')"
      ],
      "execution_count": 178,
      "outputs": [
        {
          "output_type": "execute_result",
          "data": {
            "text/html": [
              "<style  type=\"text/css\" >\n",
              "#T_851d5ab6_bb2b_11eb_8a51_0242ac1c0002row0_col0,#T_851d5ab6_bb2b_11eb_8a51_0242ac1c0002row0_col1,#T_851d5ab6_bb2b_11eb_8a51_0242ac1c0002row0_col3,#T_851d5ab6_bb2b_11eb_8a51_0242ac1c0002row3_col2{\n",
              "            background-color:  #ffff66;\n",
              "            color:  #000000;\n",
              "        }#T_851d5ab6_bb2b_11eb_8a51_0242ac1c0002row0_col2,#T_851d5ab6_bb2b_11eb_8a51_0242ac1c0002row1_col2{\n",
              "            background-color:  #f1f866;\n",
              "            color:  #000000;\n",
              "        }#T_851d5ab6_bb2b_11eb_8a51_0242ac1c0002row1_col0{\n",
              "            background-color:  #96cb66;\n",
              "            color:  #000000;\n",
              "        }#T_851d5ab6_bb2b_11eb_8a51_0242ac1c0002row1_col1{\n",
              "            background-color:  #a3d166;\n",
              "            color:  #000000;\n",
              "        }#T_851d5ab6_bb2b_11eb_8a51_0242ac1c0002row1_col3{\n",
              "            background-color:  #cfe766;\n",
              "            color:  #000000;\n",
              "        }#T_851d5ab6_bb2b_11eb_8a51_0242ac1c0002row2_col0{\n",
              "            background-color:  #a7d366;\n",
              "            color:  #000000;\n",
              "        }#T_851d5ab6_bb2b_11eb_8a51_0242ac1c0002row2_col1,#T_851d5ab6_bb2b_11eb_8a51_0242ac1c0002row2_col3{\n",
              "            background-color:  #85c266;\n",
              "            color:  #000000;\n",
              "        }#T_851d5ab6_bb2b_11eb_8a51_0242ac1c0002row2_col2{\n",
              "            background-color:  #6eb666;\n",
              "            color:  #000000;\n",
              "        }#T_851d5ab6_bb2b_11eb_8a51_0242ac1c0002row3_col0{\n",
              "            background-color:  #cde666;\n",
              "            color:  #000000;\n",
              "        }#T_851d5ab6_bb2b_11eb_8a51_0242ac1c0002row3_col1{\n",
              "            background-color:  #f0f866;\n",
              "            color:  #000000;\n",
              "        }#T_851d5ab6_bb2b_11eb_8a51_0242ac1c0002row3_col3{\n",
              "            background-color:  #f7fb66;\n",
              "            color:  #000000;\n",
              "        }#T_851d5ab6_bb2b_11eb_8a51_0242ac1c0002row4_col0,#T_851d5ab6_bb2b_11eb_8a51_0242ac1c0002row4_col1,#T_851d5ab6_bb2b_11eb_8a51_0242ac1c0002row4_col2,#T_851d5ab6_bb2b_11eb_8a51_0242ac1c0002row4_col3{\n",
              "            background-color:  #008066;\n",
              "            color:  #f1f1f1;\n",
              "        }</style><table id=\"T_851d5ab6_bb2b_11eb_8a51_0242ac1c0002\" ><thead>    <tr>        <th class=\"blank\" ></th>        <th class=\"index_name level0\" >Pclass</th>        <th class=\"col_heading level0 col0\" >1</th>        <th class=\"col_heading level0 col1\" >2</th>        <th class=\"col_heading level0 col2\" >3</th>        <th class=\"col_heading level0 col3\" >All</th>    </tr>    <tr>        <th class=\"index_name level0\" >Sex</th>        <th class=\"index_name level1\" >Survived</th>        <th class=\"blank\" ></th>        <th class=\"blank\" ></th>        <th class=\"blank\" ></th>        <th class=\"blank\" ></th>    </tr></thead><tbody>\n",
              "                <tr>\n",
              "                        <th id=\"T_851d5ab6_bb2b_11eb_8a51_0242ac1c0002level0_row0\" class=\"row_heading level0 row0\" rowspan=2>female</th>\n",
              "                        <th id=\"T_851d5ab6_bb2b_11eb_8a51_0242ac1c0002level1_row0\" class=\"row_heading level1 row0\" >0</th>\n",
              "                        <td id=\"T_851d5ab6_bb2b_11eb_8a51_0242ac1c0002row0_col0\" class=\"data row0 col0\" >3</td>\n",
              "                        <td id=\"T_851d5ab6_bb2b_11eb_8a51_0242ac1c0002row0_col1\" class=\"data row0 col1\" >6</td>\n",
              "                        <td id=\"T_851d5ab6_bb2b_11eb_8a51_0242ac1c0002row0_col2\" class=\"data row0 col2\" >72</td>\n",
              "                        <td id=\"T_851d5ab6_bb2b_11eb_8a51_0242ac1c0002row0_col3\" class=\"data row0 col3\" >81</td>\n",
              "            </tr>\n",
              "            <tr>\n",
              "                                <th id=\"T_851d5ab6_bb2b_11eb_8a51_0242ac1c0002level1_row1\" class=\"row_heading level1 row1\" >1</th>\n",
              "                        <td id=\"T_851d5ab6_bb2b_11eb_8a51_0242ac1c0002row1_col0\" class=\"data row1 col0\" >91</td>\n",
              "                        <td id=\"T_851d5ab6_bb2b_11eb_8a51_0242ac1c0002row1_col1\" class=\"data row1 col1\" >70</td>\n",
              "                        <td id=\"T_851d5ab6_bb2b_11eb_8a51_0242ac1c0002row1_col2\" class=\"data row1 col2\" >72</td>\n",
              "                        <td id=\"T_851d5ab6_bb2b_11eb_8a51_0242ac1c0002row1_col3\" class=\"data row1 col3\" >233</td>\n",
              "            </tr>\n",
              "            <tr>\n",
              "                        <th id=\"T_851d5ab6_bb2b_11eb_8a51_0242ac1c0002level0_row2\" class=\"row_heading level0 row2\" rowspan=2>male</th>\n",
              "                        <th id=\"T_851d5ab6_bb2b_11eb_8a51_0242ac1c0002level1_row2\" class=\"row_heading level1 row2\" >0</th>\n",
              "                        <td id=\"T_851d5ab6_bb2b_11eb_8a51_0242ac1c0002row2_col0\" class=\"data row2 col0\" >77</td>\n",
              "                        <td id=\"T_851d5ab6_bb2b_11eb_8a51_0242ac1c0002row2_col1\" class=\"data row2 col1\" >91</td>\n",
              "                        <td id=\"T_851d5ab6_bb2b_11eb_8a51_0242ac1c0002row2_col2\" class=\"data row2 col2\" >300</td>\n",
              "                        <td id=\"T_851d5ab6_bb2b_11eb_8a51_0242ac1c0002row2_col3\" class=\"data row2 col3\" >468</td>\n",
              "            </tr>\n",
              "            <tr>\n",
              "                                <th id=\"T_851d5ab6_bb2b_11eb_8a51_0242ac1c0002level1_row3\" class=\"row_heading level1 row3\" >1</th>\n",
              "                        <td id=\"T_851d5ab6_bb2b_11eb_8a51_0242ac1c0002row3_col0\" class=\"data row3 col0\" >45</td>\n",
              "                        <td id=\"T_851d5ab6_bb2b_11eb_8a51_0242ac1c0002row3_col1\" class=\"data row3 col1\" >17</td>\n",
              "                        <td id=\"T_851d5ab6_bb2b_11eb_8a51_0242ac1c0002row3_col2\" class=\"data row3 col2\" >47</td>\n",
              "                        <td id=\"T_851d5ab6_bb2b_11eb_8a51_0242ac1c0002row3_col3\" class=\"data row3 col3\" >109</td>\n",
              "            </tr>\n",
              "            <tr>\n",
              "                        <th id=\"T_851d5ab6_bb2b_11eb_8a51_0242ac1c0002level0_row4\" class=\"row_heading level0 row4\" >All</th>\n",
              "                        <th id=\"T_851d5ab6_bb2b_11eb_8a51_0242ac1c0002level1_row4\" class=\"row_heading level1 row4\" ></th>\n",
              "                        <td id=\"T_851d5ab6_bb2b_11eb_8a51_0242ac1c0002row4_col0\" class=\"data row4 col0\" >216</td>\n",
              "                        <td id=\"T_851d5ab6_bb2b_11eb_8a51_0242ac1c0002row4_col1\" class=\"data row4 col1\" >184</td>\n",
              "                        <td id=\"T_851d5ab6_bb2b_11eb_8a51_0242ac1c0002row4_col2\" class=\"data row4 col2\" >491</td>\n",
              "                        <td id=\"T_851d5ab6_bb2b_11eb_8a51_0242ac1c0002row4_col3\" class=\"data row4 col3\" >891</td>\n",
              "            </tr>\n",
              "    </tbody></table>"
            ],
            "text/plain": [
              "<pandas.io.formats.style.Styler at 0x7f67ca484ed0>"
            ]
          },
          "metadata": {
            "tags": []
          },
          "execution_count": 178
        }
      ]
    },
    {
      "cell_type": "code",
      "metadata": {
        "colab": {
          "base_uri": "https://localhost:8080/",
          "height": 0
        },
        "id": "iWjxZHG1rqI-",
        "outputId": "cf7d2dc1-23f7-43ce-900b-c34a64e4a367"
      },
      "source": [
        "# Pclass vs Survived by Sex\n",
        "g = sns.catplot(x=\"Pclass\", y=\"Survived\", hue=\"Sex\", data=train, height=4, kind=\"bar\", palette=\"viridis\")\n",
        "g = g.set_ylabels(\"survival probability\")"
      ],
      "execution_count": 179,
      "outputs": [
        {
          "output_type": "display_data",
          "data": {
            "image/png": "[encoded data removed]",
            "text/plain": [
              "<Figure size 365.975x288 with 1 Axes>"
            ]
          },
          "metadata": {
            "tags": []
          }
        }
      ]
    },
    {
      "cell_type": "markdown",
      "metadata": {
        "id": "QUEDiT_yw75S"
      },
      "source": [
        "We can see that irrespective of Pclass, Female were given priority than Male. Even Male from Pclass 1 have low survival rate. \n",
        "\n",
        "The lowest survival rate is for Male from Pclass 2 and 3. \n",
        "\n",
        "The highest survival rate is for Females from Pclass 1(about 95%). Only 3 out of 94 Females from Pclass 1 died.\n",
        "\n",
        "Pclass is definetly an important feature."
      ]
    },
    {
      "cell_type": "markdown",
      "metadata": {
        "id": "aS8FBn95xnpJ"
      },
      "source": [
        "**4.3.3 Embarked**"
      ]
    },
    {
      "cell_type": "code",
      "metadata": {
        "colab": {
          "base_uri": "https://localhost:8080/",
          "height": 0
        },
        "id": "rQN6TvEpxxfQ",
        "outputId": "ab7ead3c-2697-4176-cae1-0ddcddb70333"
      },
      "source": [
        "sns.barplot(x='Embarked',y='Survived',data=train)\n",
        "plt.show()"
      ],
      "execution_count": 180,
      "outputs": [
        {
          "output_type": "display_data",
          "data": {
            "image/png": "[encoded data removed]",
            "text/plain": [
              "<Figure size 432x288 with 1 Axes>"
            ]
          },
          "metadata": {
            "tags": []
          }
        }
      ]
    },
    {
      "cell_type": "markdown",
      "metadata": {
        "id": "4MhG3sEqx4vl"
      },
      "source": [
        "Passengers boarded from Port c has the highest survival chance, while Port S has lowest."
      ]
    },
    {
      "cell_type": "markdown",
      "metadata": {
        "id": "19S5ai5NWqfF"
      },
      "source": [
        "**Pclass vs Embarked**"
      ]
    },
    {
      "cell_type": "code",
      "metadata": {
        "colab": {
          "base_uri": "https://localhost:8080/",
          "height": 0
        },
        "id": "7lXsVvN3YQVI",
        "outputId": "a1bff1de-85af-4f3c-f9cd-6cf1cf601ab5"
      },
      "source": [
        "pd.crosstab(train.Pclass,train.Embarked,margins=True).style.background_gradient(cmap='summer_r')"
      ],
      "execution_count": 181,
      "outputs": [
        {
          "output_type": "execute_result",
          "data": {
            "text/html": [
              "<style  type=\"text/css\" >\n",
              "#T_85a4903a_bb2b_11eb_8a51_0242ac1c0002row0_col0{\n",
              "            background-color:  #8cc666;\n",
              "            color:  #000000;\n",
              "        }#T_85a4903a_bb2b_11eb_8a51_0242ac1c0002row0_col1,#T_85a4903a_bb2b_11eb_8a51_0242ac1c0002row0_col2,#T_85a4903a_bb2b_11eb_8a51_0242ac1c0002row1_col0,#T_85a4903a_bb2b_11eb_8a51_0242ac1c0002row1_col3{\n",
              "            background-color:  #ffff66;\n",
              "            color:  #000000;\n",
              "        }#T_85a4903a_bb2b_11eb_8a51_0242ac1c0002row0_col3{\n",
              "            background-color:  #f5fa66;\n",
              "            color:  #000000;\n",
              "        }#T_85a4903a_bb2b_11eb_8a51_0242ac1c0002row1_col1{\n",
              "            background-color:  #fcfe66;\n",
              "            color:  #000000;\n",
              "        }#T_85a4903a_bb2b_11eb_8a51_0242ac1c0002row1_col2{\n",
              "            background-color:  #edf666;\n",
              "            color:  #000000;\n",
              "        }#T_85a4903a_bb2b_11eb_8a51_0242ac1c0002row2_col0{\n",
              "            background-color:  #acd666;\n",
              "            color:  #000000;\n",
              "        }#T_85a4903a_bb2b_11eb_8a51_0242ac1c0002row2_col1{\n",
              "            background-color:  #118866;\n",
              "            color:  #000000;\n",
              "        }#T_85a4903a_bb2b_11eb_8a51_0242ac1c0002row2_col2,#T_85a4903a_bb2b_11eb_8a51_0242ac1c0002row2_col3{\n",
              "            background-color:  #90c866;\n",
              "            color:  #000000;\n",
              "        }#T_85a4903a_bb2b_11eb_8a51_0242ac1c0002row3_col0,#T_85a4903a_bb2b_11eb_8a51_0242ac1c0002row3_col1,#T_85a4903a_bb2b_11eb_8a51_0242ac1c0002row3_col2,#T_85a4903a_bb2b_11eb_8a51_0242ac1c0002row3_col3{\n",
              "            background-color:  #008066;\n",
              "            color:  #f1f1f1;\n",
              "        }</style><table id=\"T_85a4903a_bb2b_11eb_8a51_0242ac1c0002\" ><thead>    <tr>        <th class=\"index_name level0\" >Embarked</th>        <th class=\"col_heading level0 col0\" >C</th>        <th class=\"col_heading level0 col1\" >Q</th>        <th class=\"col_heading level0 col2\" >S</th>        <th class=\"col_heading level0 col3\" >All</th>    </tr>    <tr>        <th class=\"index_name level0\" >Pclass</th>        <th class=\"blank\" ></th>        <th class=\"blank\" ></th>        <th class=\"blank\" ></th>        <th class=\"blank\" ></th>    </tr></thead><tbody>\n",
              "                <tr>\n",
              "                        <th id=\"T_85a4903a_bb2b_11eb_8a51_0242ac1c0002level0_row0\" class=\"row_heading level0 row0\" >1</th>\n",
              "                        <td id=\"T_85a4903a_bb2b_11eb_8a51_0242ac1c0002row0_col0\" class=\"data row0 col0\" >85</td>\n",
              "                        <td id=\"T_85a4903a_bb2b_11eb_8a51_0242ac1c0002row0_col1\" class=\"data row0 col1\" >2</td>\n",
              "                        <td id=\"T_85a4903a_bb2b_11eb_8a51_0242ac1c0002row0_col2\" class=\"data row0 col2\" >127</td>\n",
              "                        <td id=\"T_85a4903a_bb2b_11eb_8a51_0242ac1c0002row0_col3\" class=\"data row0 col3\" >214</td>\n",
              "            </tr>\n",
              "            <tr>\n",
              "                        <th id=\"T_85a4903a_bb2b_11eb_8a51_0242ac1c0002level0_row1\" class=\"row_heading level0 row1\" >2</th>\n",
              "                        <td id=\"T_85a4903a_bb2b_11eb_8a51_0242ac1c0002row1_col0\" class=\"data row1 col0\" >17</td>\n",
              "                        <td id=\"T_85a4903a_bb2b_11eb_8a51_0242ac1c0002row1_col1\" class=\"data row1 col1\" >3</td>\n",
              "                        <td id=\"T_85a4903a_bb2b_11eb_8a51_0242ac1c0002row1_col2\" class=\"data row1 col2\" >164</td>\n",
              "                        <td id=\"T_85a4903a_bb2b_11eb_8a51_0242ac1c0002row1_col3\" class=\"data row1 col3\" >184</td>\n",
              "            </tr>\n",
              "            <tr>\n",
              "                        <th id=\"T_85a4903a_bb2b_11eb_8a51_0242ac1c0002level0_row2\" class=\"row_heading level0 row2\" >3</th>\n",
              "                        <td id=\"T_85a4903a_bb2b_11eb_8a51_0242ac1c0002row2_col0\" class=\"data row2 col0\" >66</td>\n",
              "                        <td id=\"T_85a4903a_bb2b_11eb_8a51_0242ac1c0002row2_col1\" class=\"data row2 col1\" >72</td>\n",
              "                        <td id=\"T_85a4903a_bb2b_11eb_8a51_0242ac1c0002row2_col2\" class=\"data row2 col2\" >353</td>\n",
              "                        <td id=\"T_85a4903a_bb2b_11eb_8a51_0242ac1c0002row2_col3\" class=\"data row2 col3\" >491</td>\n",
              "            </tr>\n",
              "            <tr>\n",
              "                        <th id=\"T_85a4903a_bb2b_11eb_8a51_0242ac1c0002level0_row3\" class=\"row_heading level0 row3\" >All</th>\n",
              "                        <td id=\"T_85a4903a_bb2b_11eb_8a51_0242ac1c0002row3_col0\" class=\"data row3 col0\" >168</td>\n",
              "                        <td id=\"T_85a4903a_bb2b_11eb_8a51_0242ac1c0002row3_col1\" class=\"data row3 col1\" >77</td>\n",
              "                        <td id=\"T_85a4903a_bb2b_11eb_8a51_0242ac1c0002row3_col2\" class=\"data row3 col2\" >644</td>\n",
              "                        <td id=\"T_85a4903a_bb2b_11eb_8a51_0242ac1c0002row3_col3\" class=\"data row3 col3\" >889</td>\n",
              "            </tr>\n",
              "    </tbody></table>"
            ],
            "text/plain": [
              "<pandas.io.formats.style.Styler at 0x7f67bc527990>"
            ]
          },
          "metadata": {
            "tags": []
          },
          "execution_count": 181
        }
      ]
    },
    {
      "cell_type": "code",
      "metadata": {
        "colab": {
          "base_uri": "https://localhost:8080/",
          "height": 0
        },
        "id": "czepaN1wWxPL",
        "outputId": "ec8254d4-5785-4ea4-af26-d6a7954b4eb1"
      },
      "source": [
        "# Pclass vs Embarked \n",
        "sns.catplot(x=\"Pclass\", col=\"Embarked\",  data=train, height=4, kind=\"count\", palette=\"muted\")"
      ],
      "execution_count": 182,
      "outputs": [
        {
          "output_type": "execute_result",
          "data": {
            "text/plain": [
              "<seaborn.axisgrid.FacetGrid at 0x7f67bc723fd0>"
            ]
          },
          "metadata": {
            "tags": []
          },
          "execution_count": 182
        },
        {
          "output_type": "display_data",
          "data": {
            "image/png": "[encoded data removed]",
            "text/plain": [
              "<Figure size 864x288 with 3 Axes>"
            ]
          },
          "metadata": {
            "tags": []
          }
        }
      ]
    },
    {
      "cell_type": "markdown",
      "metadata": {
        "id": "7JiYdw9Syglm"
      },
      "source": [
        "\n",
        "\n",
        "*   Majority passengers boarded from S and most of them from Pclass 3.\n",
        "*   Port Q has low number of passengers. Most of the passengers from port Q were from Pclass 3\n",
        "*   Passengers boarded from Port c are mostly from Pclass 1 which seem to have high survival rate\n"
      ]
    },
    {
      "cell_type": "markdown",
      "metadata": {
        "id": "wtuHnkOEwr48"
      },
      "source": [
        "**4.4 Nominal Feature**"
      ]
    },
    {
      "cell_type": "markdown",
      "metadata": {
        "id": "BEZEfKF_xT1G"
      },
      "source": [
        "**4.1.1 Name**\n",
        "\n",
        "Name values are unique. So no correlation is possible using 'Name' feature. But it contains both name and title of the passenger. Let's extract title from this feature. (feature engineering)\n",
        "\n",
        "People's title influences how they are treated. So it is essential to extract Title."
      ]
    },
    {
      "cell_type": "code",
      "metadata": {
        "colab": {
          "base_uri": "https://localhost:8080/"
        },
        "id": "h6OOuw6kxxZr",
        "outputId": "839c46d9-1733-42a7-dc4a-a5ecb277d9f1"
      },
      "source": [
        "# create a new feature to extract title names from the Name column\n",
        "combine['Title'] = combine.Name.apply(lambda name: name.split(',')[1].split('.')[0].strip())\n",
        "\n",
        "# count\n",
        "combine[\"Title\"].value_counts()"
      ],
      "execution_count": 183,
      "outputs": [
        {
          "output_type": "execute_result",
          "data": {
            "text/plain": [
              "Mr              757\n",
              "Miss            260\n",
              "Mrs             197\n",
              "Master           61\n",
              "Rev               8\n",
              "Dr                8\n",
              "Col               4\n",
              "Mlle              2\n",
              "Ms                2\n",
              "Major             2\n",
              "Sir               1\n",
              "Dona              1\n",
              "Lady              1\n",
              "the Countess      1\n",
              "Jonkheer          1\n",
              "Capt              1\n",
              "Mme               1\n",
              "Don               1\n",
              "Name: Title, dtype: int64"
            ]
          },
          "metadata": {
            "tags": []
          },
          "execution_count": 183
        }
      ]
    },
    {
      "cell_type": "code",
      "metadata": {
        "colab": {
          "base_uri": "https://localhost:8080/"
        },
        "id": "HHm7swTdNd-l",
        "outputId": "2c8bca2c-9e13-43af-da38-a308b60d3883"
      },
      "source": [
        "# create a new feature to extract title names from the Name column\n",
        "test['Title'] = test.Name.apply(lambda name: name.split(',')[1].split('.')[0].strip())\n",
        "\n",
        "# count\n",
        "test[\"Title\"].value_counts()"
      ],
      "execution_count": 184,
      "outputs": [
        {
          "output_type": "execute_result",
          "data": {
            "text/plain": [
              "Mr        240\n",
              "Miss       78\n",
              "Mrs        72\n",
              "Master     21\n",
              "Rev         2\n",
              "Col         2\n",
              "Ms          1\n",
              "Dona        1\n",
              "Dr          1\n",
              "Name: Title, dtype: int64"
            ]
          },
          "metadata": {
            "tags": []
          },
          "execution_count": 184
        }
      ]
    },
    {
      "cell_type": "markdown",
      "metadata": {
        "id": "WBBFs8mEx3Ea"
      },
      "source": [
        "There 18 titles and most of them are rare. So we can group similar titles."
      ]
    },
    {
      "cell_type": "code",
      "metadata": {
        "colab": {
          "base_uri": "https://localhost:8080/"
        },
        "id": "_OyXn3lTyAcX",
        "outputId": "8b67e61e-f096-4d60-ea80-70a67019ecca"
      },
      "source": [
        "# map normalized title to Title feature vector\n",
        "combine[\"Title\"] = combine[\"Title\"].map({\n",
        "    \"Mr\" :        \"Mr\", \n",
        "    \"Miss\" :      \"Miss\", \n",
        "    \"Mrs\" :       \"Mrs\", \n",
        "    \"Master\" :    \"Master\", \n",
        "    \"Dr\":         \"Officer\", \n",
        "    \"Rev\":        \"Officer\", \n",
        "    \"Mlle\":       \"Miss\", \n",
        "    \"Col\":        \"Officer\", \n",
        "    \"Major\":      \"Officer\", \n",
        "    \"Jonkheer\":   \"Royalty\", \n",
        "    \"Don\":        \"Royalty\",\n",
        "    \"Dona\":       \"Royalty\",\n",
        "    \"Lady\":      \"Royalty\",\n",
        "    \"the Countess\":\"Royalty\", \n",
        "    \"Mme\":        \"Mrs\", \n",
        "    \"Capt\":       \"Officer\", \n",
        "    \"Ms\":         \"Mrs\", \n",
        "    \"Sir\" :       \"Officer\"\n",
        "})\n",
        "\n",
        "# print value counts\n",
        "print(combine.Title.value_counts())"
      ],
      "execution_count": 185,
      "outputs": [
        {
          "output_type": "stream",
          "text": [
            "Mr         757\n",
            "Miss       262\n",
            "Mrs        200\n",
            "Master      61\n",
            "Officer     24\n",
            "Royalty      5\n",
            "Name: Title, dtype: int64\n"
          ],
          "name": "stdout"
        }
      ]
    },
    {
      "cell_type": "code",
      "metadata": {
        "colab": {
          "base_uri": "https://localhost:8080/",
          "height": 0
        },
        "id": "hiZ0MJjNyJUx",
        "outputId": "973a14bd-5694-4e57-a7c1-bbc3998d4be1"
      },
      "source": [
        "pivot = pd.pivot_table(combine, index=['Title'], values=['Survived'], aggfunc=np.mean)\n",
        "pivot.plot(kind=\"bar\")"
      ],
      "execution_count": 186,
      "outputs": [
        {
          "output_type": "execute_result",
          "data": {
            "text/plain": [
              "<matplotlib.axes._subplots.AxesSubplot at 0x7f67bc66ca50>"
            ]
          },
          "metadata": {
            "tags": []
          },
          "execution_count": 186
        },
        {
          "output_type": "display_data",
          "data": {
            "image/png": "[encoded data removed]",
            "text/plain": [
              "<Figure size 432x288 with 1 Axes>"
            ]
          },
          "metadata": {
            "tags": []
          }
        }
      ]
    },
    {
      "cell_type": "markdown",
      "metadata": {
        "id": "7D2yndGFyOJG"
      },
      "source": [
        "Title shows an uneven distribution of survival rates across the different titles. Females, children and royalty appear to have the highest chance of survival. This suggests there is some correlation between Title and Survived."
      ]
    },
    {
      "cell_type": "markdown",
      "metadata": {
        "id": "wVGs3CCtUwHm"
      },
      "source": [
        "We no longer want Name feature, since Title is extracted from it. We can drop \"Name\""
      ]
    },
    {
      "cell_type": "code",
      "metadata": {
        "id": "EGj6y5FXVB8f"
      },
      "source": [
        "combine = combine.drop(columns=['Name'])"
      ],
      "execution_count": 187,
      "outputs": []
    },
    {
      "cell_type": "markdown",
      "metadata": {
        "id": "8E3aC0IDR3fT"
      },
      "source": [
        "# 5. Data Cleaning\n",
        "\n",
        "We need to identify errors and missing datas in the dataset that may negatively impact a predictive model. Then clean and impute datas."
      ]
    },
    {
      "cell_type": "markdown",
      "metadata": {
        "id": "Bg5OyX3rTFwT"
      },
      "source": [
        "**5.1 Age**"
      ]
    },
    {
      "cell_type": "code",
      "metadata": {
        "colab": {
          "base_uri": "https://localhost:8080/"
        },
        "id": "IXqL2k8FTKAx",
        "outputId": "0f7b0159-7ffa-4f5f-b794-1c2863376936"
      },
      "source": [
        "# print null value count\n",
        "print(\"Null values:\", combine['Age'].isnull().sum())\n",
        "\n",
        "# calculate zscore for each value\n",
        "zscore = (combine.Age - combine.Age.mean()) / combine.Age.std()\n",
        "\n",
        "# calculate outliers using zscore\n",
        "outliers = combine.loc[abs(zscore) > 3]\n",
        "\n",
        "# print outliers\n",
        "print(\"Outliers:\", len(outliers))"
      ],
      "execution_count": 188,
      "outputs": [
        {
          "output_type": "stream",
          "text": [
            "Null values: 263\n",
            "Outliers: 3\n"
          ],
          "name": "stdout"
        }
      ]
    },
    {
      "cell_type": "markdown",
      "metadata": {
        "id": "JwYSWMh7Uauc"
      },
      "source": [
        "First we need to impute the missing values."
      ]
    },
    {
      "cell_type": "markdown",
      "metadata": {
        "id": "205jk0MEsy7W"
      },
      "source": [
        "**5.1.1 Impute Missing Age Values**\n",
        "\n",
        "Before estimating the missing values, we must first find correlated features of age to use as the basis of our imputation."
      ]
    },
    {
      "cell_type": "code",
      "metadata": {
        "colab": {
          "base_uri": "https://localhost:8080/",
          "height": 0
        },
        "id": "Il1_seMynBCs",
        "outputId": "17c6f5aa-3c0f-4148-8f0c-77e56fd85e60"
      },
      "source": [
        "#visualise using boxplot\n",
        "sns.boxplot(x='Sex',y='Age', data=train)\n",
        "plt.title(\"Box_plot for age and sex\")\n",
        "plt.show()\n",
        "\n",
        "sns.boxplot(x='Pclass',y='Age', data=train)\n",
        "plt.title(\"Box_plot for age and Ticket class\")\n",
        "plt.show()\n",
        "\n",
        "sns.boxplot(x='Title',y='Age', data=combine)\n",
        "plt.title(\"Box_plot for age and Title\")\n",
        "plt.show()"
      ],
      "execution_count": 189,
      "outputs": [
        {
          "output_type": "display_data",
          "data": {
            "image/png": "[encoded data removed]",
            "text/plain": [
              "<Figure size 432x288 with 1 Axes>"
            ]
          },
          "metadata": {
            "tags": []
          }
        },
        {
          "output_type": "display_data",
          "data": {
            "image/png": "[encoded data removed]",
            "text/plain": [
              "<Figure size 432x288 with 1 Axes>"
            ]
          },
          "metadata": {
            "tags": []
          }
        },
        {
          "output_type": "display_data",
          "data": {
            "image/png": "[encoded data removed]",
            "text/plain": [
              "<Figure size 432x288 with 1 Axes>"
            ]
          },
          "metadata": {
            "tags": []
          }
        }
      ]
    },
    {
      "cell_type": "markdown",
      "metadata": {
        "id": "q-BKpP3HsAtw"
      },
      "source": [
        "*   The age distribution seems almost same in male and female population. Thus 'Sex' feature is not informative.\n",
        "*   The Pclass distribution seems pretty informative. There are more young people from class 3. Class 1 passengers are older than class 2 passengers. Class 2 passengers are older than class 3 passengers. We can easily visualize that roughly 37, 29, 24 respectively are the median values of each classes.\n",
        "*   The Title distribution gives more information about the age of passengers. Like the median age of those having title 'Master' is roughly 5.\n",
        "\n",
        "We will impute our missing ages using Linear Regression imputation."
      ]
    },
    {
      "cell_type": "code",
      "metadata": {
        "colab": {
          "base_uri": "https://localhost:8080/"
        },
        "id": "KeQvxSHiuHg6",
        "outputId": "ce8c2d06-c0e1-4460-c2fa-c13460289d1a"
      },
      "source": [
        "# we first need to map Title to numerical values to allow the algorithm to run\n",
        "combine['TitleMap'] = combine['Title'].map({'Mr':0, 'Mrs':1, 'Miss':2, 'Master':3, 'Royalty':4, 'Officer':5})\n",
        "\n",
        "# getting all data with known age values to train our model\n",
        "data = combine.loc[combine['Age'].notna()]\n",
        "\n",
        "# creating X = features (Title and Class) and Y = response variable (Age)\n",
        "X = data[['TitleMap' , 'Pclass']]\n",
        "Y = data['Age']\n",
        "\n",
        "# imputing age using regression imputation\n",
        "regression_classifier = LinearRegression()\n",
        "\n",
        "# splitting our data for training and testing \n",
        "X_train, X_test, Y_train, Y_test = train_test_split(X, Y, test_size=263)\n",
        "\n",
        "model = regression_classifier.fit(X_train,Y_train) # data fitted to model to train\n",
        "\n",
        "# predict missing ages\n",
        "age_result = model.predict(X_test)\n",
        "\n",
        "# age_result contains the imputed values and can be imputed by:\n",
        "combine.loc[combine['Age'].isnull(), 'Age'] = age_result\n",
        "\n",
        "# check all age values have been filled\n",
        "print(\"Null values:\", combine['Age'].isnull().sum())"
      ],
      "execution_count": 190,
      "outputs": [
        {
          "output_type": "stream",
          "text": [
            "Null values: 0\n"
          ],
          "name": "stdout"
        }
      ]
    },
    {
      "cell_type": "code",
      "metadata": {
        "id": "xlO9d_L0x7yd"
      },
      "source": [
        "# drop Title as it is no longer required\n",
        "combine = combine.drop(columns=\"Title\")"
      ],
      "execution_count": 191,
      "outputs": []
    },
    {
      "cell_type": "markdown",
      "metadata": {
        "id": "KqwcDY5yuZRb"
      },
      "source": [
        "**5.1.2 Validate Age outliers**\n",
        "\n",
        "Identify and validte outliers in Age data"
      ]
    },
    {
      "cell_type": "code",
      "metadata": {
        "colab": {
          "base_uri": "https://localhost:8080/",
          "height": 0
        },
        "id": "_rXZXIaMuhq6",
        "outputId": "d314eb89-662b-49f2-a81b-41ee19da9ef4"
      },
      "source": [
        "# calculate zscore for each value\n",
        "zscore = (combine.Age - combine.Age.mean()) / combine.Age.std()\n",
        "\n",
        "# calculate outliers using zscore\n",
        "outliers = combine[abs(zscore) > 3]\n",
        "\n",
        "# print outliers\n",
        "print(\"Outlier count:\", len(outliers))\n",
        "print(\"Outliers:\") \n",
        "outliers"
      ],
      "execution_count": 192,
      "outputs": [
        {
          "output_type": "stream",
          "text": [
            "Outlier count: 8\n",
            "Outliers:\n"
          ],
          "name": "stdout"
        },
        {
          "output_type": "execute_result",
          "data": {
            "text/html": [
              "<div>\n",
              "<style scoped>\n",
              "    .dataframe tbody tr th:only-of-type {\n",
              "        vertical-align: middle;\n",
              "    }\n",
              "\n",
              "    .dataframe tbody tr th {\n",
              "        vertical-align: top;\n",
              "    }\n",
              "\n",
              "    .dataframe thead th {\n",
              "        text-align: right;\n",
              "    }\n",
              "</style>\n",
              "<table border=\"1\" class=\"dataframe\">\n",
              "  <thead>\n",
              "    <tr style=\"text-align: right;\">\n",
              "      <th></th>\n",
              "      <th>PassengerId</th>\n",
              "      <th>Survived</th>\n",
              "      <th>Pclass</th>\n",
              "      <th>Sex</th>\n",
              "      <th>Age</th>\n",
              "      <th>SibSp</th>\n",
              "      <th>Parch</th>\n",
              "      <th>Ticket</th>\n",
              "      <th>Fare</th>\n",
              "      <th>Cabin</th>\n",
              "      <th>Embarked</th>\n",
              "      <th>TitleMap</th>\n",
              "    </tr>\n",
              "  </thead>\n",
              "  <tbody>\n",
              "    <tr>\n",
              "      <th>96</th>\n",
              "      <td>97</td>\n",
              "      <td>0.0</td>\n",
              "      <td>1</td>\n",
              "      <td>male</td>\n",
              "      <td>71.0</td>\n",
              "      <td>0</td>\n",
              "      <td>0</td>\n",
              "      <td>PC 17754</td>\n",
              "      <td>34.6542</td>\n",
              "      <td>A5</td>\n",
              "      <td>C</td>\n",
              "      <td>0</td>\n",
              "    </tr>\n",
              "    <tr>\n",
              "      <th>116</th>\n",
              "      <td>117</td>\n",
              "      <td>0.0</td>\n",
              "      <td>3</td>\n",
              "      <td>male</td>\n",
              "      <td>70.5</td>\n",
              "      <td>0</td>\n",
              "      <td>0</td>\n",
              "      <td>370369</td>\n",
              "      <td>7.7500</td>\n",
              "      <td>NaN</td>\n",
              "      <td>Q</td>\n",
              "      <td>0</td>\n",
              "    </tr>\n",
              "    <tr>\n",
              "      <th>493</th>\n",
              "      <td>494</td>\n",
              "      <td>0.0</td>\n",
              "      <td>1</td>\n",
              "      <td>male</td>\n",
              "      <td>71.0</td>\n",
              "      <td>0</td>\n",
              "      <td>0</td>\n",
              "      <td>PC 17609</td>\n",
              "      <td>49.5042</td>\n",
              "      <td>NaN</td>\n",
              "      <td>C</td>\n",
              "      <td>0</td>\n",
              "    </tr>\n",
              "    <tr>\n",
              "      <th>630</th>\n",
              "      <td>631</td>\n",
              "      <td>1.0</td>\n",
              "      <td>1</td>\n",
              "      <td>male</td>\n",
              "      <td>80.0</td>\n",
              "      <td>0</td>\n",
              "      <td>0</td>\n",
              "      <td>27042</td>\n",
              "      <td>30.0000</td>\n",
              "      <td>A23</td>\n",
              "      <td>S</td>\n",
              "      <td>0</td>\n",
              "    </tr>\n",
              "    <tr>\n",
              "      <th>672</th>\n",
              "      <td>673</td>\n",
              "      <td>0.0</td>\n",
              "      <td>2</td>\n",
              "      <td>male</td>\n",
              "      <td>70.0</td>\n",
              "      <td>0</td>\n",
              "      <td>0</td>\n",
              "      <td>C.A. 24580</td>\n",
              "      <td>10.5000</td>\n",
              "      <td>NaN</td>\n",
              "      <td>S</td>\n",
              "      <td>0</td>\n",
              "    </tr>\n",
              "    <tr>\n",
              "      <th>745</th>\n",
              "      <td>746</td>\n",
              "      <td>0.0</td>\n",
              "      <td>1</td>\n",
              "      <td>male</td>\n",
              "      <td>70.0</td>\n",
              "      <td>1</td>\n",
              "      <td>1</td>\n",
              "      <td>WE/P 5735</td>\n",
              "      <td>71.0000</td>\n",
              "      <td>B22</td>\n",
              "      <td>S</td>\n",
              "      <td>5</td>\n",
              "    </tr>\n",
              "    <tr>\n",
              "      <th>851</th>\n",
              "      <td>852</td>\n",
              "      <td>0.0</td>\n",
              "      <td>3</td>\n",
              "      <td>male</td>\n",
              "      <td>74.0</td>\n",
              "      <td>0</td>\n",
              "      <td>0</td>\n",
              "      <td>347060</td>\n",
              "      <td>7.7750</td>\n",
              "      <td>NaN</td>\n",
              "      <td>S</td>\n",
              "      <td>0</td>\n",
              "    </tr>\n",
              "    <tr>\n",
              "      <th>987</th>\n",
              "      <td>988</td>\n",
              "      <td>NaN</td>\n",
              "      <td>1</td>\n",
              "      <td>female</td>\n",
              "      <td>76.0</td>\n",
              "      <td>1</td>\n",
              "      <td>0</td>\n",
              "      <td>19877</td>\n",
              "      <td>78.8500</td>\n",
              "      <td>C46</td>\n",
              "      <td>S</td>\n",
              "      <td>1</td>\n",
              "    </tr>\n",
              "  </tbody>\n",
              "</table>\n",
              "</div>"
            ],
            "text/plain": [
              "     PassengerId  Survived  Pclass     Sex  ...     Fare  Cabin  Embarked TitleMap\n",
              "96            97       0.0       1    male  ...  34.6542     A5         C        0\n",
              "116          117       0.0       3    male  ...   7.7500    NaN         Q        0\n",
              "493          494       0.0       1    male  ...  49.5042    NaN         C        0\n",
              "630          631       1.0       1    male  ...  30.0000    A23         S        0\n",
              "672          673       0.0       2    male  ...  10.5000    NaN         S        0\n",
              "745          746       0.0       1    male  ...  71.0000    B22         S        5\n",
              "851          852       0.0       3    male  ...   7.7750    NaN         S        0\n",
              "987          988       NaN       1  female  ...  78.8500    C46         S        1\n",
              "\n",
              "[8 rows x 12 columns]"
            ]
          },
          "metadata": {
            "tags": []
          },
          "execution_count": 192
        }
      ]
    },
    {
      "cell_type": "markdown",
      "metadata": {
        "id": "qoUxPtDZvRGw"
      },
      "source": [
        "There are only 7 outliers for age.\n",
        "All outliers are valid ages for a passenger. They can be retained in the dataset."
      ]
    },
    {
      "cell_type": "markdown",
      "metadata": {
        "id": "tm_m4ugawYUq"
      },
      "source": [
        "**5.2 Fare**"
      ]
    },
    {
      "cell_type": "code",
      "metadata": {
        "colab": {
          "base_uri": "https://localhost:8080/",
          "height": 0
        },
        "id": "wrDNz_cd1bLx",
        "outputId": "064213e6-f4da-4c85-9422-bba4eb9ccd42"
      },
      "source": [
        "# print null value count\n",
        "print(\"Null values:\", combine.Fare.isnull().sum())\n",
        "\n",
        "zscore = (combine.Fare - combine.Fare.mean()) / combine.Fare.std()\n",
        "\n",
        "# calculate outliers using zscore\n",
        "outliers = combine.loc[abs(zscore) > 3]\n",
        "\n",
        "# print outlier count\n",
        "print(\"Outlier count:\", len(outliers))\n",
        "\n",
        "print(\"Outliers:\")\n",
        "outliers"
      ],
      "execution_count": 193,
      "outputs": [
        {
          "output_type": "stream",
          "text": [
            "Null values: 1\n",
            "Outlier count: 38\n",
            "Outliers:\n"
          ],
          "name": "stdout"
        },
        {
          "output_type": "execute_result",
          "data": {
            "text/html": [
              "<div>\n",
              "<style scoped>\n",
              "    .dataframe tbody tr th:only-of-type {\n",
              "        vertical-align: middle;\n",
              "    }\n",
              "\n",
              "    .dataframe tbody tr th {\n",
              "        vertical-align: top;\n",
              "    }\n",
              "\n",
              "    .dataframe thead th {\n",
              "        text-align: right;\n",
              "    }\n",
              "</style>\n",
              "<table border=\"1\" class=\"dataframe\">\n",
              "  <thead>\n",
              "    <tr style=\"text-align: right;\">\n",
              "      <th></th>\n",
              "      <th>PassengerId</th>\n",
              "      <th>Survived</th>\n",
              "      <th>Pclass</th>\n",
              "      <th>Sex</th>\n",
              "      <th>Age</th>\n",
              "      <th>SibSp</th>\n",
              "      <th>Parch</th>\n",
              "      <th>Ticket</th>\n",
              "      <th>Fare</th>\n",
              "      <th>Cabin</th>\n",
              "      <th>Embarked</th>\n",
              "      <th>TitleMap</th>\n",
              "    </tr>\n",
              "  </thead>\n",
              "  <tbody>\n",
              "    <tr>\n",
              "      <th>27</th>\n",
              "      <td>28</td>\n",
              "      <td>0.0</td>\n",
              "      <td>1</td>\n",
              "      <td>male</td>\n",
              "      <td>19.000000</td>\n",
              "      <td>3</td>\n",
              "      <td>2</td>\n",
              "      <td>19950</td>\n",
              "      <td>263.0000</td>\n",
              "      <td>C23 C25 C27</td>\n",
              "      <td>S</td>\n",
              "      <td>0</td>\n",
              "    </tr>\n",
              "    <tr>\n",
              "      <th>88</th>\n",
              "      <td>89</td>\n",
              "      <td>1.0</td>\n",
              "      <td>1</td>\n",
              "      <td>female</td>\n",
              "      <td>23.000000</td>\n",
              "      <td>3</td>\n",
              "      <td>2</td>\n",
              "      <td>19950</td>\n",
              "      <td>263.0000</td>\n",
              "      <td>C23 C25 C27</td>\n",
              "      <td>S</td>\n",
              "      <td>2</td>\n",
              "    </tr>\n",
              "    <tr>\n",
              "      <th>118</th>\n",
              "      <td>119</td>\n",
              "      <td>0.0</td>\n",
              "      <td>1</td>\n",
              "      <td>male</td>\n",
              "      <td>24.000000</td>\n",
              "      <td>0</td>\n",
              "      <td>1</td>\n",
              "      <td>PC 17558</td>\n",
              "      <td>247.5208</td>\n",
              "      <td>B58 B60</td>\n",
              "      <td>C</td>\n",
              "      <td>0</td>\n",
              "    </tr>\n",
              "    <tr>\n",
              "      <th>258</th>\n",
              "      <td>259</td>\n",
              "      <td>1.0</td>\n",
              "      <td>1</td>\n",
              "      <td>female</td>\n",
              "      <td>35.000000</td>\n",
              "      <td>0</td>\n",
              "      <td>0</td>\n",
              "      <td>PC 17755</td>\n",
              "      <td>512.3292</td>\n",
              "      <td>NaN</td>\n",
              "      <td>C</td>\n",
              "      <td>2</td>\n",
              "    </tr>\n",
              "    <tr>\n",
              "      <th>299</th>\n",
              "      <td>300</td>\n",
              "      <td>1.0</td>\n",
              "      <td>1</td>\n",
              "      <td>female</td>\n",
              "      <td>50.000000</td>\n",
              "      <td>0</td>\n",
              "      <td>1</td>\n",
              "      <td>PC 17558</td>\n",
              "      <td>247.5208</td>\n",
              "      <td>B58 B60</td>\n",
              "      <td>C</td>\n",
              "      <td>1</td>\n",
              "    </tr>\n",
              "    <tr>\n",
              "      <th>311</th>\n",
              "      <td>312</td>\n",
              "      <td>1.0</td>\n",
              "      <td>1</td>\n",
              "      <td>female</td>\n",
              "      <td>18.000000</td>\n",
              "      <td>2</td>\n",
              "      <td>2</td>\n",
              "      <td>PC 17608</td>\n",
              "      <td>262.3750</td>\n",
              "      <td>B57 B59 B63 B66</td>\n",
              "      <td>C</td>\n",
              "      <td>2</td>\n",
              "    </tr>\n",
              "    <tr>\n",
              "      <th>341</th>\n",
              "      <td>342</td>\n",
              "      <td>1.0</td>\n",
              "      <td>1</td>\n",
              "      <td>female</td>\n",
              "      <td>24.000000</td>\n",
              "      <td>3</td>\n",
              "      <td>2</td>\n",
              "      <td>19950</td>\n",
              "      <td>263.0000</td>\n",
              "      <td>C23 C25 C27</td>\n",
              "      <td>S</td>\n",
              "      <td>2</td>\n",
              "    </tr>\n",
              "    <tr>\n",
              "      <th>377</th>\n",
              "      <td>378</td>\n",
              "      <td>0.0</td>\n",
              "      <td>1</td>\n",
              "      <td>male</td>\n",
              "      <td>27.000000</td>\n",
              "      <td>0</td>\n",
              "      <td>2</td>\n",
              "      <td>113503</td>\n",
              "      <td>211.5000</td>\n",
              "      <td>C82</td>\n",
              "      <td>C</td>\n",
              "      <td>0</td>\n",
              "    </tr>\n",
              "    <tr>\n",
              "      <th>380</th>\n",
              "      <td>381</td>\n",
              "      <td>1.0</td>\n",
              "      <td>1</td>\n",
              "      <td>female</td>\n",
              "      <td>42.000000</td>\n",
              "      <td>0</td>\n",
              "      <td>0</td>\n",
              "      <td>PC 17757</td>\n",
              "      <td>227.5250</td>\n",
              "      <td>NaN</td>\n",
              "      <td>C</td>\n",
              "      <td>2</td>\n",
              "    </tr>\n",
              "    <tr>\n",
              "      <th>438</th>\n",
              "      <td>439</td>\n",
              "      <td>0.0</td>\n",
              "      <td>1</td>\n",
              "      <td>male</td>\n",
              "      <td>64.000000</td>\n",
              "      <td>1</td>\n",
              "      <td>4</td>\n",
              "      <td>19950</td>\n",
              "      <td>263.0000</td>\n",
              "      <td>C23 C25 C27</td>\n",
              "      <td>S</td>\n",
              "      <td>0</td>\n",
              "    </tr>\n",
              "    <tr>\n",
              "      <th>527</th>\n",
              "      <td>528</td>\n",
              "      <td>0.0</td>\n",
              "      <td>1</td>\n",
              "      <td>male</td>\n",
              "      <td>19.057032</td>\n",
              "      <td>0</td>\n",
              "      <td>0</td>\n",
              "      <td>PC 17483</td>\n",
              "      <td>221.7792</td>\n",
              "      <td>C95</td>\n",
              "      <td>S</td>\n",
              "      <td>0</td>\n",
              "    </tr>\n",
              "    <tr>\n",
              "      <th>557</th>\n",
              "      <td>558</td>\n",
              "      <td>0.0</td>\n",
              "      <td>1</td>\n",
              "      <td>male</td>\n",
              "      <td>30.479723</td>\n",
              "      <td>0</td>\n",
              "      <td>0</td>\n",
              "      <td>PC 17757</td>\n",
              "      <td>227.5250</td>\n",
              "      <td>NaN</td>\n",
              "      <td>C</td>\n",
              "      <td>0</td>\n",
              "    </tr>\n",
              "    <tr>\n",
              "      <th>679</th>\n",
              "      <td>680</td>\n",
              "      <td>1.0</td>\n",
              "      <td>1</td>\n",
              "      <td>male</td>\n",
              "      <td>36.000000</td>\n",
              "      <td>0</td>\n",
              "      <td>1</td>\n",
              "      <td>PC 17755</td>\n",
              "      <td>512.3292</td>\n",
              "      <td>B51 B53 B55</td>\n",
              "      <td>C</td>\n",
              "      <td>0</td>\n",
              "    </tr>\n",
              "    <tr>\n",
              "      <th>689</th>\n",
              "      <td>690</td>\n",
              "      <td>1.0</td>\n",
              "      <td>1</td>\n",
              "      <td>female</td>\n",
              "      <td>15.000000</td>\n",
              "      <td>0</td>\n",
              "      <td>1</td>\n",
              "      <td>24160</td>\n",
              "      <td>211.3375</td>\n",
              "      <td>B5</td>\n",
              "      <td>S</td>\n",
              "      <td>2</td>\n",
              "    </tr>\n",
              "    <tr>\n",
              "      <th>700</th>\n",
              "      <td>701</td>\n",
              "      <td>1.0</td>\n",
              "      <td>1</td>\n",
              "      <td>female</td>\n",
              "      <td>18.000000</td>\n",
              "      <td>1</td>\n",
              "      <td>0</td>\n",
              "      <td>PC 17757</td>\n",
              "      <td>227.5250</td>\n",
              "      <td>C62 C64</td>\n",
              "      <td>C</td>\n",
              "      <td>1</td>\n",
              "    </tr>\n",
              "    <tr>\n",
              "      <th>716</th>\n",
              "      <td>717</td>\n",
              "      <td>1.0</td>\n",
              "      <td>1</td>\n",
              "      <td>female</td>\n",
              "      <td>38.000000</td>\n",
              "      <td>0</td>\n",
              "      <td>0</td>\n",
              "      <td>PC 17757</td>\n",
              "      <td>227.5250</td>\n",
              "      <td>C45</td>\n",
              "      <td>C</td>\n",
              "      <td>2</td>\n",
              "    </tr>\n",
              "    <tr>\n",
              "      <th>730</th>\n",
              "      <td>731</td>\n",
              "      <td>1.0</td>\n",
              "      <td>1</td>\n",
              "      <td>female</td>\n",
              "      <td>29.000000</td>\n",
              "      <td>0</td>\n",
              "      <td>0</td>\n",
              "      <td>24160</td>\n",
              "      <td>211.3375</td>\n",
              "      <td>B5</td>\n",
              "      <td>S</td>\n",
              "      <td>2</td>\n",
              "    </tr>\n",
              "    <tr>\n",
              "      <th>737</th>\n",
              "      <td>738</td>\n",
              "      <td>1.0</td>\n",
              "      <td>1</td>\n",
              "      <td>male</td>\n",
              "      <td>35.000000</td>\n",
              "      <td>0</td>\n",
              "      <td>0</td>\n",
              "      <td>PC 17755</td>\n",
              "      <td>512.3292</td>\n",
              "      <td>B101</td>\n",
              "      <td>C</td>\n",
              "      <td>0</td>\n",
              "    </tr>\n",
              "    <tr>\n",
              "      <th>742</th>\n",
              "      <td>743</td>\n",
              "      <td>1.0</td>\n",
              "      <td>1</td>\n",
              "      <td>female</td>\n",
              "      <td>21.000000</td>\n",
              "      <td>2</td>\n",
              "      <td>2</td>\n",
              "      <td>PC 17608</td>\n",
              "      <td>262.3750</td>\n",
              "      <td>B57 B59 B63 B66</td>\n",
              "      <td>C</td>\n",
              "      <td>2</td>\n",
              "    </tr>\n",
              "    <tr>\n",
              "      <th>779</th>\n",
              "      <td>780</td>\n",
              "      <td>1.0</td>\n",
              "      <td>1</td>\n",
              "      <td>female</td>\n",
              "      <td>43.000000</td>\n",
              "      <td>0</td>\n",
              "      <td>1</td>\n",
              "      <td>24160</td>\n",
              "      <td>211.3375</td>\n",
              "      <td>B3</td>\n",
              "      <td>S</td>\n",
              "      <td>1</td>\n",
              "    </tr>\n",
              "    <tr>\n",
              "      <th>915</th>\n",
              "      <td>916</td>\n",
              "      <td>NaN</td>\n",
              "      <td>1</td>\n",
              "      <td>female</td>\n",
              "      <td>48.000000</td>\n",
              "      <td>1</td>\n",
              "      <td>3</td>\n",
              "      <td>PC 17608</td>\n",
              "      <td>262.3750</td>\n",
              "      <td>B57 B59 B63 B66</td>\n",
              "      <td>C</td>\n",
              "      <td>1</td>\n",
              "    </tr>\n",
              "    <tr>\n",
              "      <th>944</th>\n",
              "      <td>945</td>\n",
              "      <td>NaN</td>\n",
              "      <td>1</td>\n",
              "      <td>female</td>\n",
              "      <td>28.000000</td>\n",
              "      <td>3</td>\n",
              "      <td>2</td>\n",
              "      <td>19950</td>\n",
              "      <td>263.0000</td>\n",
              "      <td>C23 C25 C27</td>\n",
              "      <td>S</td>\n",
              "      <td>2</td>\n",
              "    </tr>\n",
              "    <tr>\n",
              "      <th>950</th>\n",
              "      <td>951</td>\n",
              "      <td>NaN</td>\n",
              "      <td>1</td>\n",
              "      <td>female</td>\n",
              "      <td>36.000000</td>\n",
              "      <td>0</td>\n",
              "      <td>0</td>\n",
              "      <td>PC 17608</td>\n",
              "      <td>262.3750</td>\n",
              "      <td>B61</td>\n",
              "      <td>C</td>\n",
              "      <td>2</td>\n",
              "    </tr>\n",
              "    <tr>\n",
              "      <th>955</th>\n",
              "      <td>956</td>\n",
              "      <td>NaN</td>\n",
              "      <td>1</td>\n",
              "      <td>male</td>\n",
              "      <td>13.000000</td>\n",
              "      <td>2</td>\n",
              "      <td>2</td>\n",
              "      <td>PC 17608</td>\n",
              "      <td>262.3750</td>\n",
              "      <td>B57 B59 B63 B66</td>\n",
              "      <td>C</td>\n",
              "      <td>3</td>\n",
              "    </tr>\n",
              "    <tr>\n",
              "      <th>960</th>\n",
              "      <td>961</td>\n",
              "      <td>NaN</td>\n",
              "      <td>1</td>\n",
              "      <td>female</td>\n",
              "      <td>60.000000</td>\n",
              "      <td>1</td>\n",
              "      <td>4</td>\n",
              "      <td>19950</td>\n",
              "      <td>263.0000</td>\n",
              "      <td>C23 C25 C27</td>\n",
              "      <td>S</td>\n",
              "      <td>1</td>\n",
              "    </tr>\n",
              "    <tr>\n",
              "      <th>965</th>\n",
              "      <td>966</td>\n",
              "      <td>NaN</td>\n",
              "      <td>1</td>\n",
              "      <td>female</td>\n",
              "      <td>35.000000</td>\n",
              "      <td>0</td>\n",
              "      <td>0</td>\n",
              "      <td>113503</td>\n",
              "      <td>211.5000</td>\n",
              "      <td>C130</td>\n",
              "      <td>C</td>\n",
              "      <td>2</td>\n",
              "    </tr>\n",
              "    <tr>\n",
              "      <th>966</th>\n",
              "      <td>967</td>\n",
              "      <td>NaN</td>\n",
              "      <td>1</td>\n",
              "      <td>male</td>\n",
              "      <td>32.500000</td>\n",
              "      <td>0</td>\n",
              "      <td>0</td>\n",
              "      <td>113503</td>\n",
              "      <td>211.5000</td>\n",
              "      <td>C132</td>\n",
              "      <td>C</td>\n",
              "      <td>0</td>\n",
              "    </tr>\n",
              "    <tr>\n",
              "      <th>972</th>\n",
              "      <td>973</td>\n",
              "      <td>NaN</td>\n",
              "      <td>1</td>\n",
              "      <td>male</td>\n",
              "      <td>67.000000</td>\n",
              "      <td>1</td>\n",
              "      <td>0</td>\n",
              "      <td>PC 17483</td>\n",
              "      <td>221.7792</td>\n",
              "      <td>C55 C57</td>\n",
              "      <td>S</td>\n",
              "      <td>0</td>\n",
              "    </tr>\n",
              "    <tr>\n",
              "      <th>1005</th>\n",
              "      <td>1006</td>\n",
              "      <td>NaN</td>\n",
              "      <td>1</td>\n",
              "      <td>female</td>\n",
              "      <td>63.000000</td>\n",
              "      <td>1</td>\n",
              "      <td>0</td>\n",
              "      <td>PC 17483</td>\n",
              "      <td>221.7792</td>\n",
              "      <td>C55 C57</td>\n",
              "      <td>S</td>\n",
              "      <td>1</td>\n",
              "    </tr>\n",
              "    <tr>\n",
              "      <th>1033</th>\n",
              "      <td>1034</td>\n",
              "      <td>NaN</td>\n",
              "      <td>1</td>\n",
              "      <td>male</td>\n",
              "      <td>61.000000</td>\n",
              "      <td>1</td>\n",
              "      <td>3</td>\n",
              "      <td>PC 17608</td>\n",
              "      <td>262.3750</td>\n",
              "      <td>B57 B59 B63 B66</td>\n",
              "      <td>C</td>\n",
              "      <td>0</td>\n",
              "    </tr>\n",
              "    <tr>\n",
              "      <th>1047</th>\n",
              "      <td>1048</td>\n",
              "      <td>NaN</td>\n",
              "      <td>1</td>\n",
              "      <td>female</td>\n",
              "      <td>29.000000</td>\n",
              "      <td>0</td>\n",
              "      <td>0</td>\n",
              "      <td>PC 17483</td>\n",
              "      <td>221.7792</td>\n",
              "      <td>C97</td>\n",
              "      <td>S</td>\n",
              "      <td>2</td>\n",
              "    </tr>\n",
              "    <tr>\n",
              "      <th>1075</th>\n",
              "      <td>1076</td>\n",
              "      <td>NaN</td>\n",
              "      <td>1</td>\n",
              "      <td>female</td>\n",
              "      <td>27.000000</td>\n",
              "      <td>1</td>\n",
              "      <td>1</td>\n",
              "      <td>PC 17558</td>\n",
              "      <td>247.5208</td>\n",
              "      <td>B58 B60</td>\n",
              "      <td>C</td>\n",
              "      <td>1</td>\n",
              "    </tr>\n",
              "    <tr>\n",
              "      <th>1093</th>\n",
              "      <td>1094</td>\n",
              "      <td>NaN</td>\n",
              "      <td>1</td>\n",
              "      <td>male</td>\n",
              "      <td>47.000000</td>\n",
              "      <td>1</td>\n",
              "      <td>0</td>\n",
              "      <td>PC 17757</td>\n",
              "      <td>227.5250</td>\n",
              "      <td>C62 C64</td>\n",
              "      <td>C</td>\n",
              "      <td>5</td>\n",
              "    </tr>\n",
              "    <tr>\n",
              "      <th>1109</th>\n",
              "      <td>1110</td>\n",
              "      <td>NaN</td>\n",
              "      <td>1</td>\n",
              "      <td>female</td>\n",
              "      <td>50.000000</td>\n",
              "      <td>1</td>\n",
              "      <td>1</td>\n",
              "      <td>113503</td>\n",
              "      <td>211.5000</td>\n",
              "      <td>C80</td>\n",
              "      <td>C</td>\n",
              "      <td>1</td>\n",
              "    </tr>\n",
              "    <tr>\n",
              "      <th>1215</th>\n",
              "      <td>1216</td>\n",
              "      <td>NaN</td>\n",
              "      <td>1</td>\n",
              "      <td>female</td>\n",
              "      <td>39.000000</td>\n",
              "      <td>0</td>\n",
              "      <td>0</td>\n",
              "      <td>24160</td>\n",
              "      <td>211.3375</td>\n",
              "      <td>NaN</td>\n",
              "      <td>S</td>\n",
              "      <td>2</td>\n",
              "    </tr>\n",
              "    <tr>\n",
              "      <th>1234</th>\n",
              "      <td>1235</td>\n",
              "      <td>NaN</td>\n",
              "      <td>1</td>\n",
              "      <td>female</td>\n",
              "      <td>58.000000</td>\n",
              "      <td>0</td>\n",
              "      <td>1</td>\n",
              "      <td>PC 17755</td>\n",
              "      <td>512.3292</td>\n",
              "      <td>B51 B53 B55</td>\n",
              "      <td>C</td>\n",
              "      <td>1</td>\n",
              "    </tr>\n",
              "    <tr>\n",
              "      <th>1266</th>\n",
              "      <td>1267</td>\n",
              "      <td>NaN</td>\n",
              "      <td>1</td>\n",
              "      <td>female</td>\n",
              "      <td>45.000000</td>\n",
              "      <td>0</td>\n",
              "      <td>0</td>\n",
              "      <td>PC 17608</td>\n",
              "      <td>262.3750</td>\n",
              "      <td>NaN</td>\n",
              "      <td>C</td>\n",
              "      <td>2</td>\n",
              "    </tr>\n",
              "    <tr>\n",
              "      <th>1298</th>\n",
              "      <td>1299</td>\n",
              "      <td>NaN</td>\n",
              "      <td>1</td>\n",
              "      <td>male</td>\n",
              "      <td>50.000000</td>\n",
              "      <td>1</td>\n",
              "      <td>1</td>\n",
              "      <td>113503</td>\n",
              "      <td>211.5000</td>\n",
              "      <td>C80</td>\n",
              "      <td>C</td>\n",
              "      <td>0</td>\n",
              "    </tr>\n",
              "  </tbody>\n",
              "</table>\n",
              "</div>"
            ],
            "text/plain": [
              "      PassengerId  Survived  Pclass  ...            Cabin  Embarked  TitleMap\n",
              "27             28       0.0       1  ...      C23 C25 C27         S         0\n",
              "88             89       1.0       1  ...      C23 C25 C27         S         2\n",
              "118           119       0.0       1  ...          B58 B60         C         0\n",
              "258           259       1.0       1  ...              NaN         C         2\n",
              "299           300       1.0       1  ...          B58 B60         C         1\n",
              "311           312       1.0       1  ...  B57 B59 B63 B66         C         2\n",
              "341           342       1.0       1  ...      C23 C25 C27         S         2\n",
              "377           378       0.0       1  ...              C82         C         0\n",
              "380           381       1.0       1  ...              NaN         C         2\n",
              "438           439       0.0       1  ...      C23 C25 C27         S         0\n",
              "527           528       0.0       1  ...              C95         S         0\n",
              "557           558       0.0       1  ...              NaN         C         0\n",
              "679           680       1.0       1  ...      B51 B53 B55         C         0\n",
              "689           690       1.0       1  ...               B5         S         2\n",
              "700           701       1.0       1  ...          C62 C64         C         1\n",
              "716           717       1.0       1  ...              C45         C         2\n",
              "730           731       1.0       1  ...               B5         S         2\n",
              "737           738       1.0       1  ...             B101         C         0\n",
              "742           743       1.0       1  ...  B57 B59 B63 B66         C         2\n",
              "779           780       1.0       1  ...               B3         S         1\n",
              "915           916       NaN       1  ...  B57 B59 B63 B66         C         1\n",
              "944           945       NaN       1  ...      C23 C25 C27         S         2\n",
              "950           951       NaN       1  ...              B61         C         2\n",
              "955           956       NaN       1  ...  B57 B59 B63 B66         C         3\n",
              "960           961       NaN       1  ...      C23 C25 C27         S         1\n",
              "965           966       NaN       1  ...             C130         C         2\n",
              "966           967       NaN       1  ...             C132         C         0\n",
              "972           973       NaN       1  ...          C55 C57         S         0\n",
              "1005         1006       NaN       1  ...          C55 C57         S         1\n",
              "1033         1034       NaN       1  ...  B57 B59 B63 B66         C         0\n",
              "1047         1048       NaN       1  ...              C97         S         2\n",
              "1075         1076       NaN       1  ...          B58 B60         C         1\n",
              "1093         1094       NaN       1  ...          C62 C64         C         5\n",
              "1109         1110       NaN       1  ...              C80         C         1\n",
              "1215         1216       NaN       1  ...              NaN         S         2\n",
              "1234         1235       NaN       1  ...      B51 B53 B55         C         1\n",
              "1266         1267       NaN       1  ...              NaN         C         2\n",
              "1298         1299       NaN       1  ...              C80         C         0\n",
              "\n",
              "[38 rows x 12 columns]"
            ]
          },
          "metadata": {
            "tags": []
          },
          "execution_count": 193
        }
      ]
    },
    {
      "cell_type": "markdown",
      "metadata": {
        "id": "Sz77_UJR2owk"
      },
      "source": [
        "There are multiple instances of the most extreme outliers. All outliers are also from first class, which would expect to have higher ticket costs. These values may not be  erronous and will be retained in the dataset."
      ]
    },
    {
      "cell_type": "code",
      "metadata": {
        "id": "OLId1KVK5In_"
      },
      "source": [
        "#Fill the one missing value of Fare with the median value\n",
        "combine[\"Fare\"] = combine[\"Fare\"].fillna(combine[\"Fare\"].median())"
      ],
      "execution_count": 194,
      "outputs": []
    },
    {
      "cell_type": "markdown",
      "metadata": {
        "id": "XCuZArxAF305"
      },
      "source": [
        "**5.3 Cabin**"
      ]
    },
    {
      "cell_type": "code",
      "metadata": {
        "colab": {
          "base_uri": "https://localhost:8080/"
        },
        "id": "Dmm8LzLyF_Ty",
        "outputId": "75634be0-edfe-4ae6-94fa-6ec359c35ced"
      },
      "source": [
        "# print null value count\n",
        "print(\"Null values:\", combine.Cabin.isnull().sum())\n",
        "\n",
        "# print list of unique values to check for anything unusual\n",
        "print(\"Unique count:\", combine.Cabin.nunique())"
      ],
      "execution_count": 195,
      "outputs": [
        {
          "output_type": "stream",
          "text": [
            "Null values: 1014\n",
            "Unique count: 186\n"
          ],
          "name": "stdout"
        }
      ]
    },
    {
      "cell_type": "markdown",
      "metadata": {
        "id": "SB-lwhvYLCJL"
      },
      "source": [
        "Cabin is missing a huge amount of data. Imputation is futile. We can drop this feature from dataset."
      ]
    },
    {
      "cell_type": "code",
      "metadata": {
        "id": "0C-kh-5cLE8E"
      },
      "source": [
        "combine = combine.drop(columns='Cabin')"
      ],
      "execution_count": 196,
      "outputs": []
    },
    {
      "cell_type": "markdown",
      "metadata": {
        "id": "tAvZcesiLQgT"
      },
      "source": [
        "**5.4  Embarked**"
      ]
    },
    {
      "cell_type": "code",
      "metadata": {
        "colab": {
          "base_uri": "https://localhost:8080/"
        },
        "id": "jWxnaZxmLVuA",
        "outputId": "2ffa1673-f1ed-4400-82c3-eb3d41dbcd57"
      },
      "source": [
        "# print null value count\n",
        "print(\"Null values:\", combine.Embarked.isnull().sum())\n",
        "\n",
        "# print list of unique values to check for anything unusual\n",
        "print(\"Unique values:\", combine.Embarked.dropna().unique())"
      ],
      "execution_count": 197,
      "outputs": [
        {
          "output_type": "stream",
          "text": [
            "Null values: 2\n",
            "Unique values: ['S' 'C' 'Q']\n"
          ],
          "name": "stdout"
        }
      ]
    },
    {
      "cell_type": "markdown",
      "metadata": {
        "id": "RudCVit6La9S"
      },
      "source": [
        "Embarked contains 2 missing values and no unusual values."
      ]
    },
    {
      "cell_type": "markdown",
      "metadata": {
        "id": "ozNCR1jYUJki"
      },
      "source": [
        "**5.4.1 Impute Missing Embarked Values**\n",
        "\n",
        "As only 2 of 891 values are missing, we can simply fill these with the most common embarked value."
      ]
    },
    {
      "cell_type": "code",
      "metadata": {
        "colab": {
          "base_uri": "https://localhost:8080/"
        },
        "id": "Bw1OrZbHM18r",
        "outputId": "f34e6433-086f-4f84-c51f-8a470c48c2cd"
      },
      "source": [
        "# print embarked value counts\n",
        "print(combine.Embarked.value_counts())"
      ],
      "execution_count": 198,
      "outputs": [
        {
          "output_type": "stream",
          "text": [
            "S    914\n",
            "C    270\n",
            "Q    123\n",
            "Name: Embarked, dtype: int64\n"
          ],
          "name": "stdout"
        }
      ]
    },
    {
      "cell_type": "markdown",
      "metadata": {
        "id": "0Pu4ykZBM5Gu"
      },
      "source": [
        "Most common value is 'S'. Fill missing embarked values with 'S'."
      ]
    },
    {
      "cell_type": "code",
      "metadata": {
        "colab": {
          "base_uri": "https://localhost:8080/"
        },
        "id": "dDPxYiPcM8qd",
        "outputId": "289b5a94-9e7b-44b8-d1e7-418d7699dee9"
      },
      "source": [
        "# fill emabrked na with 'S'\n",
        "combine.Embarked = combine.Embarked.fillna('S')\n",
        "\n",
        "# confirm there are no more nulls\n",
        "print(\"Null values:\", combine.Embarked.isnull().sum())\n",
        "print(combine.Embarked.value_counts())"
      ],
      "execution_count": 199,
      "outputs": [
        {
          "output_type": "stream",
          "text": [
            "Null values: 0\n",
            "S    916\n",
            "C    270\n",
            "Q    123\n",
            "Name: Embarked, dtype: int64\n"
          ],
          "name": "stdout"
        }
      ]
    },
    {
      "cell_type": "markdown",
      "metadata": {
        "id": "MshRUZH_G8Tl"
      },
      "source": [
        "**5.5 Ticket**\n"
      ]
    },
    {
      "cell_type": "code",
      "metadata": {
        "colab": {
          "base_uri": "https://localhost:8080/"
        },
        "id": "GP3H7FafQdyl",
        "outputId": "956f032a-f5fb-4855-a118-c29fa46514ec"
      },
      "source": [
        "# print null value count\n",
        "print(\"Null values:\", combine.Ticket.isnull().sum())\n",
        "\n",
        "# print list of unique values to check for anything unusual\n",
        "print(\"Unique values:\", combine.Ticket.nunique())"
      ],
      "execution_count": 200,
      "outputs": [
        {
          "output_type": "stream",
          "text": [
            "Null values: 0\n",
            "Unique values: 929\n"
          ],
          "name": "stdout"
        }
      ]
    },
    {
      "cell_type": "markdown",
      "metadata": {
        "id": "AFxpZgNfSH-S"
      },
      "source": [
        "Since there are 929 random unique Tickets, they have no impact on outcome. So we can drop Ticket column."
      ]
    },
    {
      "cell_type": "code",
      "metadata": {
        "id": "vS0j4CmXTnYR"
      },
      "source": [
        "combine = combine.drop(columns=['Ticket'])"
      ],
      "execution_count": 201,
      "outputs": []
    },
    {
      "cell_type": "markdown",
      "metadata": {
        "id": "BojpjZUYYQRp"
      },
      "source": [
        "We can also drop PassengerId as it is useless"
      ]
    },
    {
      "cell_type": "code",
      "metadata": {
        "id": "2qfxrKudYHUo"
      },
      "source": [
        "combine.drop(labels = [\"PassengerId\"], axis = 1, inplace = True)"
      ],
      "execution_count": 202,
      "outputs": []
    },
    {
      "cell_type": "code",
      "metadata": {
        "colab": {
          "base_uri": "https://localhost:8080/",
          "height": 0
        },
        "id": "EcgMleFB87jE",
        "outputId": "c2277c67-7fe8-4df1-c5f6-f7c1d95c74c5"
      },
      "source": [
        "combine.head()"
      ],
      "execution_count": 203,
      "outputs": [
        {
          "output_type": "execute_result",
          "data": {
            "text/html": [
              "<div>\n",
              "<style scoped>\n",
              "    .dataframe tbody tr th:only-of-type {\n",
              "        vertical-align: middle;\n",
              "    }\n",
              "\n",
              "    .dataframe tbody tr th {\n",
              "        vertical-align: top;\n",
              "    }\n",
              "\n",
              "    .dataframe thead th {\n",
              "        text-align: right;\n",
              "    }\n",
              "</style>\n",
              "<table border=\"1\" class=\"dataframe\">\n",
              "  <thead>\n",
              "    <tr style=\"text-align: right;\">\n",
              "      <th></th>\n",
              "      <th>Survived</th>\n",
              "      <th>Pclass</th>\n",
              "      <th>Sex</th>\n",
              "      <th>Age</th>\n",
              "      <th>SibSp</th>\n",
              "      <th>Parch</th>\n",
              "      <th>Fare</th>\n",
              "      <th>Embarked</th>\n",
              "      <th>TitleMap</th>\n",
              "    </tr>\n",
              "  </thead>\n",
              "  <tbody>\n",
              "    <tr>\n",
              "      <th>0</th>\n",
              "      <td>0.0</td>\n",
              "      <td>3</td>\n",
              "      <td>male</td>\n",
              "      <td>22.0</td>\n",
              "      <td>1</td>\n",
              "      <td>0</td>\n",
              "      <td>7.2500</td>\n",
              "      <td>S</td>\n",
              "      <td>0</td>\n",
              "    </tr>\n",
              "    <tr>\n",
              "      <th>1</th>\n",
              "      <td>1.0</td>\n",
              "      <td>1</td>\n",
              "      <td>female</td>\n",
              "      <td>38.0</td>\n",
              "      <td>1</td>\n",
              "      <td>0</td>\n",
              "      <td>71.2833</td>\n",
              "      <td>C</td>\n",
              "      <td>1</td>\n",
              "    </tr>\n",
              "    <tr>\n",
              "      <th>2</th>\n",
              "      <td>1.0</td>\n",
              "      <td>3</td>\n",
              "      <td>female</td>\n",
              "      <td>26.0</td>\n",
              "      <td>0</td>\n",
              "      <td>0</td>\n",
              "      <td>7.9250</td>\n",
              "      <td>S</td>\n",
              "      <td>2</td>\n",
              "    </tr>\n",
              "    <tr>\n",
              "      <th>3</th>\n",
              "      <td>1.0</td>\n",
              "      <td>1</td>\n",
              "      <td>female</td>\n",
              "      <td>35.0</td>\n",
              "      <td>1</td>\n",
              "      <td>0</td>\n",
              "      <td>53.1000</td>\n",
              "      <td>S</td>\n",
              "      <td>1</td>\n",
              "    </tr>\n",
              "    <tr>\n",
              "      <th>4</th>\n",
              "      <td>0.0</td>\n",
              "      <td>3</td>\n",
              "      <td>male</td>\n",
              "      <td>35.0</td>\n",
              "      <td>0</td>\n",
              "      <td>0</td>\n",
              "      <td>8.0500</td>\n",
              "      <td>S</td>\n",
              "      <td>0</td>\n",
              "    </tr>\n",
              "  </tbody>\n",
              "</table>\n",
              "</div>"
            ],
            "text/plain": [
              "   Survived  Pclass     Sex   Age  SibSp  Parch     Fare Embarked  TitleMap\n",
              "0       0.0       3    male  22.0      1      0   7.2500        S         0\n",
              "1       1.0       1  female  38.0      1      0  71.2833        C         1\n",
              "2       1.0       3  female  26.0      0      0   7.9250        S         2\n",
              "3       1.0       1  female  35.0      1      0  53.1000        S         1\n",
              "4       0.0       3    male  35.0      0      0   8.0500        S         0"
            ]
          },
          "metadata": {
            "tags": []
          },
          "execution_count": 203
        }
      ]
    },
    {
      "cell_type": "markdown",
      "metadata": {
        "id": "t1jAUink1yzD"
      },
      "source": [
        "# 6. Feature Engineering"
      ]
    },
    {
      "cell_type": "markdown",
      "metadata": {
        "id": "S_k7eVLR2Jmn"
      },
      "source": [
        "**6.1 Sex**"
      ]
    },
    {
      "cell_type": "markdown",
      "metadata": {
        "id": "lfBfQYPW2NKN"
      },
      "source": [
        "We cannot pass strings to a machine learning model, so we need to convert features 'Sex' into numeric values.\n"
      ]
    },
    {
      "cell_type": "code",
      "metadata": {
        "id": "Oqe4zWTt2PVP"
      },
      "source": [
        "combine['Sex'].replace(['male','female'],[0,1],inplace=True)"
      ],
      "execution_count": 204,
      "outputs": []
    },
    {
      "cell_type": "markdown",
      "metadata": {
        "id": "dqFaCZGy3MWx"
      },
      "source": [
        "**6.2 Age**\n",
        "\n",
        "Since Age is a continous feature, we can create clusters or bins.\n",
        "\n",
        " we cannot directly pass to Machine Learning Models. We already created bins, but assigned string values (for easy interpretation and EDA). We can assign numeric values to those string values."
      ]
    },
    {
      "cell_type": "code",
      "metadata": {
        "id": "PCR1Cu9B-bTR"
      },
      "source": [
        "#creating the bins that we need to cut each range of ages\n",
        "bins = (0, 5, 12, 18, 35, 60, 120) \n",
        "\n",
        "#Seting the names that we want use to the categories\n",
        "categories = ['babies', 'Children', 'Teen', 'YoungAdult', 'Adult', 'Senior']\n",
        "\n",
        "#Applying the pd.cut and using the parameters that we created \n",
        "combine[\"AgeGroup\"] = pd.cut(combine.Age, bins, labels=categories)"
      ],
      "execution_count": 205,
      "outputs": []
    },
    {
      "cell_type": "code",
      "metadata": {
        "id": "ONYK4dFfXTRY"
      },
      "source": [
        "combine['AgeGroup'].replace(['babies','Children','Teen','YoungAdult','Adult','Senior'],[0,1,2,3,4,5],inplace=True)"
      ],
      "execution_count": 206,
      "outputs": []
    },
    {
      "cell_type": "markdown",
      "metadata": {
        "id": "hSxgXnLw3pqu"
      },
      "source": [
        "We dont need Age feature. So we drop Age\n"
      ]
    },
    {
      "cell_type": "code",
      "metadata": {
        "id": "lTJTwIKb3vJC"
      },
      "source": [
        "combine = combine.drop(columns='Age')"
      ],
      "execution_count": 207,
      "outputs": []
    },
    {
      "cell_type": "markdown",
      "metadata": {
        "id": "1MXYeGwe7PTt"
      },
      "source": [
        "**6.3 Relatives and Alone**\n",
        "\n",
        "Both SibSp and Parch can be combined as they represent the number of relatives on board. We can create '**Relatives**' feature which is sum of SibSp and Parch."
      ]
    },
    {
      "cell_type": "code",
      "metadata": {
        "id": "TzRREdag7mCY",
        "colab": {
          "base_uri": "https://localhost:8080/"
        },
        "outputId": "7aff11b8-9a49-4449-9db0-9e6f478e5faa"
      },
      "source": [
        "# create a new feature to calculate number of relatives\n",
        "combine['Relatives'] = combine['SibSp'] + combine['Parch']\n",
        "\n",
        "# print value counts\n",
        "print(combine.Relatives.value_counts())"
      ],
      "execution_count": 208,
      "outputs": [
        {
          "output_type": "stream",
          "text": [
            "0     790\n",
            "1     235\n",
            "2     159\n",
            "3      43\n",
            "5      25\n",
            "4      22\n",
            "6      16\n",
            "10     11\n",
            "7       8\n",
            "Name: Relatives, dtype: int64\n"
          ],
          "name": "stdout"
        }
      ]
    },
    {
      "cell_type": "markdown",
      "metadata": {
        "id": "QJx1FB-t77an"
      },
      "source": [
        "790 passengers were travelling alone. Let us represent this as a separate feature '**Alone**'."
      ]
    },
    {
      "cell_type": "code",
      "metadata": {
        "id": "dKoX7jnD8Bis",
        "colab": {
          "base_uri": "https://localhost:8080/"
        },
        "outputId": "1109839a-d122-4ceb-c0ec-a1b9e006b426"
      },
      "source": [
        "# create new feature to show if passenger was alone or with family\n",
        "combine['Alone'] = 0\n",
        "combine.loc[combine['Relatives'] == 0, 'Alone'] = 1\n",
        "\n",
        "# print value counts\n",
        "print(combine.Alone.value_counts())"
      ],
      "execution_count": 209,
      "outputs": [
        {
          "output_type": "stream",
          "text": [
            "1    790\n",
            "0    519\n",
            "Name: Alone, dtype: int64\n"
          ],
          "name": "stdout"
        }
      ]
    },
    {
      "cell_type": "code",
      "metadata": {
        "id": "Bnb_3Cit8Ze-",
        "colab": {
          "base_uri": "https://localhost:8080/",
          "height": 0
        },
        "outputId": "dfe18173-16be-4bbc-97c0-f6ca300869f1"
      },
      "source": [
        "f,ax=plt.subplots(1,2,figsize=(12,4))\n",
        "\n",
        "sns.barplot(data=combine, x=\"Relatives\", y=\"Survived\", ax=ax[0])\n",
        "ax[0].set_title('Relatives vs Survived')\n",
        "\n",
        "sns.barplot(x='Alone', y='Survived', data=combine, ax=ax[1])\n",
        "ax[1].set_title('Alone vs Survived')\n",
        "\n",
        "plt.close(2)\n",
        "plt.show()"
      ],
      "execution_count": 210,
      "outputs": [
        {
          "output_type": "display_data",
          "data": {
            "image/png": "[encoded data removed]",
            "text/plain": [
              "<Figure size 864x288 with 2 Axes>"
            ]
          },
          "metadata": {
            "tags": []
          }
        }
      ]
    },
    {
      "cell_type": "markdown",
      "metadata": {
        "id": "hnDo8PlY8fHo"
      },
      "source": [
        "Relatives=0 means that the passenger is alone. \n",
        "If you are alone or Relatives=0,then chances for survival is very low.\n",
        "\n",
        "For Relatives > 3, the chance of survival decrease. "
      ]
    },
    {
      "cell_type": "code",
      "metadata": {
        "id": "STGo0F4jFrPB"
      },
      "source": [
        "combine = combine.drop(columns=['SibSp','Parch'])"
      ],
      "execution_count": 211,
      "outputs": []
    },
    {
      "cell_type": "markdown",
      "metadata": {
        "id": "JBgYWfuUdVpK"
      },
      "source": [
        "**6.4 Fare**\n",
        "\n",
        "Since Fare cannot be passed as it is, we can convert Fare it into categorical."
      ]
    },
    {
      "cell_type": "code",
      "metadata": {
        "id": "o6j6XNB3diem"
      },
      "source": [
        "combine['Fare_Cat']=0\n",
        "combine.loc[combine['Fare']<=7.91,'Fare_Cat']=0\n",
        "combine.loc[(combine['Fare']>7.91) & (combine['Fare']<=14.454),'Fare_Cat']=1\n",
        "combine.loc[(combine['Fare']>14.454) & (combine['Fare']<=31),'Fare_Cat']=2\n",
        "combine.loc[(combine['Fare']>31) & (combine['Fare']<=513),'Fare_Cat']=3"
      ],
      "execution_count": 212,
      "outputs": []
    },
    {
      "cell_type": "markdown",
      "metadata": {
        "id": "Uw_tGQtkds-V"
      },
      "source": [
        "Since we have Fare_Cat, We can Fare as it is not needed."
      ]
    },
    {
      "cell_type": "code",
      "metadata": {
        "id": "pKDM-JPVd3Rc"
      },
      "source": [
        "combine = combine.drop(columns=['Fare'])"
      ],
      "execution_count": 213,
      "outputs": []
    },
    {
      "cell_type": "markdown",
      "metadata": {
        "id": "Ufucs7jzfutS"
      },
      "source": [
        "**6.6 Embarked**\n",
        "\n",
        "Since we cannot pass strings to a machine learning model, we need to convert feature Embarked into numeric values."
      ]
    },
    {
      "cell_type": "code",
      "metadata": {
        "id": "kUUHhembi1h_"
      },
      "source": [
        "combine['Embarked'] = combine['Embarked'].map({'S': 0, 'Q': 1, 'C': 2})"
      ],
      "execution_count": 214,
      "outputs": []
    },
    {
      "cell_type": "code",
      "metadata": {
        "id": "INCMRVr3b7Ku",
        "colab": {
          "base_uri": "https://localhost:8080/",
          "height": 0
        },
        "outputId": "55a0883c-4f3f-4f57-f277-3debaf12a66e"
      },
      "source": [
        "combine.head()"
      ],
      "execution_count": 215,
      "outputs": [
        {
          "output_type": "execute_result",
          "data": {
            "text/html": [
              "<div>\n",
              "<style scoped>\n",
              "    .dataframe tbody tr th:only-of-type {\n",
              "        vertical-align: middle;\n",
              "    }\n",
              "\n",
              "    .dataframe tbody tr th {\n",
              "        vertical-align: top;\n",
              "    }\n",
              "\n",
              "    .dataframe thead th {\n",
              "        text-align: right;\n",
              "    }\n",
              "</style>\n",
              "<table border=\"1\" class=\"dataframe\">\n",
              "  <thead>\n",
              "    <tr style=\"text-align: right;\">\n",
              "      <th></th>\n",
              "      <th>Survived</th>\n",
              "      <th>Pclass</th>\n",
              "      <th>Sex</th>\n",
              "      <th>Embarked</th>\n",
              "      <th>TitleMap</th>\n",
              "      <th>AgeGroup</th>\n",
              "      <th>Relatives</th>\n",
              "      <th>Alone</th>\n",
              "      <th>Fare_Cat</th>\n",
              "    </tr>\n",
              "  </thead>\n",
              "  <tbody>\n",
              "    <tr>\n",
              "      <th>0</th>\n",
              "      <td>0.0</td>\n",
              "      <td>3</td>\n",
              "      <td>0</td>\n",
              "      <td>0</td>\n",
              "      <td>0</td>\n",
              "      <td>3</td>\n",
              "      <td>1</td>\n",
              "      <td>0</td>\n",
              "      <td>0</td>\n",
              "    </tr>\n",
              "    <tr>\n",
              "      <th>1</th>\n",
              "      <td>1.0</td>\n",
              "      <td>1</td>\n",
              "      <td>1</td>\n",
              "      <td>2</td>\n",
              "      <td>1</td>\n",
              "      <td>4</td>\n",
              "      <td>1</td>\n",
              "      <td>0</td>\n",
              "      <td>3</td>\n",
              "    </tr>\n",
              "    <tr>\n",
              "      <th>2</th>\n",
              "      <td>1.0</td>\n",
              "      <td>3</td>\n",
              "      <td>1</td>\n",
              "      <td>0</td>\n",
              "      <td>2</td>\n",
              "      <td>3</td>\n",
              "      <td>0</td>\n",
              "      <td>1</td>\n",
              "      <td>1</td>\n",
              "    </tr>\n",
              "    <tr>\n",
              "      <th>3</th>\n",
              "      <td>1.0</td>\n",
              "      <td>1</td>\n",
              "      <td>1</td>\n",
              "      <td>0</td>\n",
              "      <td>1</td>\n",
              "      <td>3</td>\n",
              "      <td>1</td>\n",
              "      <td>0</td>\n",
              "      <td>3</td>\n",
              "    </tr>\n",
              "    <tr>\n",
              "      <th>4</th>\n",
              "      <td>0.0</td>\n",
              "      <td>3</td>\n",
              "      <td>0</td>\n",
              "      <td>0</td>\n",
              "      <td>0</td>\n",
              "      <td>3</td>\n",
              "      <td>0</td>\n",
              "      <td>1</td>\n",
              "      <td>1</td>\n",
              "    </tr>\n",
              "  </tbody>\n",
              "</table>\n",
              "</div>"
            ],
            "text/plain": [
              "   Survived  Pclass  Sex  Embarked  ...  AgeGroup  Relatives  Alone  Fare_Cat\n",
              "0       0.0       3    0         0  ...         3          1      0         0\n",
              "1       1.0       1    1         2  ...         4          1      0         3\n",
              "2       1.0       3    1         0  ...         3          0      1         1\n",
              "3       1.0       1    1         0  ...         3          1      0         3\n",
              "4       0.0       3    0         0  ...         3          0      1         1\n",
              "\n",
              "[5 rows x 9 columns]"
            ]
          },
          "metadata": {
            "tags": []
          },
          "execution_count": 215
        }
      ]
    },
    {
      "cell_type": "markdown",
      "metadata": {
        "id": "u3KQzsgaGZEy"
      },
      "source": [
        "# 7. Modeling"
      ]
    },
    {
      "cell_type": "code",
      "metadata": {
        "id": "S56i6fF7Gh-f"
      },
      "source": [
        "## Separate train dataset and test dataset\n",
        "\n",
        "train_len = len(train)\n",
        "train = combine[:train_len]\n",
        "test = combine[train_len:]"
      ],
      "execution_count": 216,
      "outputs": []
    },
    {
      "cell_type": "code",
      "metadata": {
        "colab": {
          "base_uri": "https://localhost:8080/"
        },
        "id": "7UJOfj9ETNjV",
        "outputId": "752082f9-2f51-46e2-cde9-e8c1afab07ab"
      },
      "source": [
        "print(test)"
      ],
      "execution_count": 217,
      "outputs": [
        {
          "output_type": "stream",
          "text": [
            "      Survived  Pclass  Sex  Embarked  ...  AgeGroup  Relatives  Alone  Fare_Cat\n",
            "891        NaN       3    0         1  ...         3          0      1         0\n",
            "892        NaN       3    1         0  ...         4          1      0         0\n",
            "893        NaN       2    0         1  ...         5          0      1         1\n",
            "894        NaN       3    0         0  ...         3          0      1         1\n",
            "895        NaN       3    1         0  ...         3          2      0         1\n",
            "...        ...     ...  ...       ...  ...       ...        ...    ...       ...\n",
            "1304       NaN       3    0         0  ...         3          0      1         1\n",
            "1305       NaN       1    1         2  ...         4          0      1         3\n",
            "1306       NaN       3    0         0  ...         4          0      1         0\n",
            "1307       NaN       3    0         0  ...         2          0      1         1\n",
            "1308       NaN       3    0         2  ...         3          2      0         2\n",
            "\n",
            "[418 rows x 9 columns]\n"
          ],
          "name": "stdout"
        }
      ]
    },
    {
      "cell_type": "code",
      "metadata": {
        "id": "0v0oIcVWTRck"
      },
      "source": [
        "X_train = train.drop(\"Survived\",axis=1)\n",
        "Y_train = train[\"Survived\"].astype(int)\n",
        "X_test  = test.drop(\"Survived\",axis=1)"
      ],
      "execution_count": 218,
      "outputs": []
    },
    {
      "cell_type": "code",
      "metadata": {
        "colab": {
          "base_uri": "https://localhost:8080/"
        },
        "id": "_iNfCsgjLOe7",
        "outputId": "d9022e55-c59c-4952-b5d7-6d4eef6d1646"
      },
      "source": [
        "# Logistic Regression\n",
        "\n",
        "logreg = LogisticRegression()\n",
        "logreg.fit(X_train, Y_train)\n",
        "Y_pred = logreg.predict(X_test)\n",
        "acc_log = round(logreg.score(X_train, Y_train) * 100, 2)\n",
        "acc_log"
      ],
      "execution_count": 219,
      "outputs": [
        {
          "output_type": "execute_result",
          "data": {
            "text/plain": [
              "81.82"
            ]
          },
          "metadata": {
            "tags": []
          },
          "execution_count": 219
        }
      ]
    },
    {
      "cell_type": "code",
      "metadata": {
        "colab": {
          "base_uri": "https://localhost:8080/"
        },
        "id": "UPjrIHO4OJF-",
        "outputId": "414aca5b-7c9a-4111-cce8-6c1e977dd601"
      },
      "source": [
        "# Support Vector Machines\n",
        "\n",
        "svc = SVC()\n",
        "svc.fit(X_train, Y_train)\n",
        "Y_pred = svc.predict(X_test)\n",
        "acc_svc = round(svc.score(X_train, Y_train) * 100, 2)\n",
        "acc_svc"
      ],
      "execution_count": 220,
      "outputs": [
        {
          "output_type": "execute_result",
          "data": {
            "text/plain": [
              "83.05"
            ]
          },
          "metadata": {
            "tags": []
          },
          "execution_count": 220
        }
      ]
    },
    {
      "cell_type": "code",
      "metadata": {
        "colab": {
          "base_uri": "https://localhost:8080/"
        },
        "id": "qZ3PGADRPcZG",
        "outputId": "02694fff-f3cd-4c3c-8e69-3f429b1b30f8"
      },
      "source": [
        "# KNN\n",
        "\n",
        "knn = KNeighborsClassifier(n_neighbors = 3)\n",
        "knn.fit(X_train, Y_train)\n",
        "Y_pred = knn.predict(X_test)\n",
        "acc_knn = round(knn.score(X_train, Y_train) * 100, 2)\n",
        "acc_knn"
      ],
      "execution_count": 221,
      "outputs": [
        {
          "output_type": "execute_result",
          "data": {
            "text/plain": [
              "82.72"
            ]
          },
          "metadata": {
            "tags": []
          },
          "execution_count": 221
        }
      ]
    },
    {
      "cell_type": "code",
      "metadata": {
        "colab": {
          "base_uri": "https://localhost:8080/"
        },
        "id": "MmW2zj39PwEm",
        "outputId": "696665b0-d2d4-421f-c46f-e3623edf9fb4"
      },
      "source": [
        "# Gaussian Naive Bayes\n",
        "\n",
        "gaussian = GaussianNB()\n",
        "gaussian.fit(X_train, Y_train)\n",
        "Y_pred = gaussian.predict(X_test)\n",
        "acc_gaussian = round(gaussian.score(X_train, Y_train) * 100, 2)\n",
        "acc_gaussian"
      ],
      "execution_count": 222,
      "outputs": [
        {
          "output_type": "execute_result",
          "data": {
            "text/plain": [
              "78.79"
            ]
          },
          "metadata": {
            "tags": []
          },
          "execution_count": 222
        }
      ]
    },
    {
      "cell_type": "code",
      "metadata": {
        "colab": {
          "base_uri": "https://localhost:8080/"
        },
        "id": "5c0XETprP6FY",
        "outputId": "0357fd74-503b-447c-9512-6713af0a31ce"
      },
      "source": [
        "# Stochastic Gradient Descent\n",
        "\n",
        "sgd = SGDClassifier()\n",
        "sgd.fit(X_train, Y_train)\n",
        "Y_pred = sgd.predict(X_test)\n",
        "acc_sgd = round(sgd.score(X_train, Y_train) * 100, 2)\n",
        "acc_sgd"
      ],
      "execution_count": 223,
      "outputs": [
        {
          "output_type": "execute_result",
          "data": {
            "text/plain": [
              "81.03"
            ]
          },
          "metadata": {
            "tags": []
          },
          "execution_count": 223
        }
      ]
    },
    {
      "cell_type": "code",
      "metadata": {
        "colab": {
          "base_uri": "https://localhost:8080/"
        },
        "id": "nDLmXcnSP_An",
        "outputId": "9ee67e67-25c8-448b-ff5f-bd754627ca2f"
      },
      "source": [
        "# Decision Tree\n",
        "\n",
        "decision_tree = DecisionTreeClassifier()\n",
        "decision_tree.fit(X_train, Y_train)\n",
        "Y_pred = decision_tree.predict(X_test)\n",
        "acc_decision_tree = round(decision_tree.score(X_train, Y_train) * 100, 2)\n",
        "acc_decision_tree"
      ],
      "execution_count": 224,
      "outputs": [
        {
          "output_type": "execute_result",
          "data": {
            "text/plain": [
              "89.11"
            ]
          },
          "metadata": {
            "tags": []
          },
          "execution_count": 224
        }
      ]
    },
    {
      "cell_type": "code",
      "metadata": {
        "colab": {
          "base_uri": "https://localhost:8080/"
        },
        "id": "70Vrp_TxQHsM",
        "outputId": "d5a7ec56-4017-4949-de21-57efab6663b2"
      },
      "source": [
        "# Random Forest\n",
        "\n",
        "random_forest = RandomForestClassifier(n_estimators=100)\n",
        "random_forest.fit(X_train, Y_train)\n",
        "Y_pred = random_forest.predict(X_test)\n",
        "random_forest.score(X_train, Y_train)\n",
        "acc_random_forest = round(random_forest.score(X_train, Y_train) * 100, 2)\n",
        "acc_random_forest"
      ],
      "execution_count": 225,
      "outputs": [
        {
          "output_type": "execute_result",
          "data": {
            "text/plain": [
              "89.11"
            ]
          },
          "metadata": {
            "tags": []
          },
          "execution_count": 225
        }
      ]
    },
    {
      "cell_type": "code",
      "metadata": {
        "id": "U1McxlNIQ6k_"
      },
      "source": [
        "submission = pd.DataFrame({\n",
        "        \"PassengerId\": PassengerId,\n",
        "        \"Survived\": Y_pred\n",
        "    })\n",
        "\n",
        "\n",
        "submission.to_csv('submission.csv', index=False)\n"
      ],
      "execution_count": 229,
      "outputs": []
    }
  ]
}